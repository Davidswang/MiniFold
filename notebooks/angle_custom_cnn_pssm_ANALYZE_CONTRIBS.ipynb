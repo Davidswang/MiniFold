{
 "cells": [
  {
   "cell_type": "code",
   "execution_count": 1,
   "metadata": {},
   "outputs": [
    {
     "name": "stderr",
     "output_type": "stream",
     "text": [
      "Using TensorFlow backend.\n"
     ]
    }
   ],
   "source": [
    "# Import libraries\n",
    "import numpy as np\n",
    "import pandas as pd\n",
    "import matplotlib.pyplot as plt\n",
    "from keras.models import Sequential, load_model, Model\n",
    "from keras.layers import Dense, Embedding, Dropout, Flatten, UpSampling1D, UpSampling2D\n",
    "from keras.layers.convolutional import Conv1D, Conv2D, Conv2DTranspose\n",
    "from keras.layers.pooling import MaxPooling1D, AveragePooling1D, MaxPooling2D, AveragePooling2D\n",
    "import keras.backend as K\n",
    "import keras\n",
    "\n",
    "from keras.layers import BatchNormalization, Activation\n",
    "from keras.layers import Input\n",
    "from keras.regularizers import l2"
   ]
  },
  {
   "cell_type": "code",
   "execution_count": 2,
   "metadata": {},
   "outputs": [],
   "source": [
    "kernel_size, filters = 3, 16\n",
    "adam = keras.optimizers.Adam(lr=0.001, beta_1=0.9, beta_2=0.999, epsilon=None, decay=0.0, amsgrad=True)"
   ]
  },
  {
   "cell_type": "code",
   "execution_count": 3,
   "metadata": {},
   "outputs": [],
   "source": [
    "def resnet_layer(inputs,\n",
    "                 num_filters=16,\n",
    "                 kernel_size=3,\n",
    "                 strides=1,\n",
    "                 activation='relu',\n",
    "                 batch_normalization=True,\n",
    "                 conv_first=True):\n",
    "    \"\"\"2D Convolution-Batch Normalization-Activation stack builder\n",
    "\n",
    "    # Arguments\n",
    "        inputs (tensor): input tensor from input image or previous layer\n",
    "        num_filters (int): Conv2D number of filters\n",
    "        kernel_size (int): Conv2D square kernel dimensions\n",
    "        strides (int): Conv2D square stride dimensions\n",
    "        activation (string): activation name\n",
    "        batch_normalization (bool): whether to include batch normalization\n",
    "        conv_first (bool): conv-bn-activation (True) or\n",
    "            bn-activation-conv (False)\n",
    "\n",
    "    # Returns\n",
    "        x (tensor): tensor as input to the next layer\n",
    "    \"\"\"\n",
    "    conv = Conv2D(num_filters,\n",
    "                  kernel_size=kernel_size,\n",
    "                  strides=strides,\n",
    "                  padding='same',\n",
    "                  kernel_initializer='he_normal',\n",
    "                  kernel_regularizer=l2(1e-4))\n",
    "\n",
    "    x = inputs\n",
    "    if conv_first:\n",
    "        x = conv(x)\n",
    "        if batch_normalization:\n",
    "            x = BatchNormalization()(x)\n",
    "        if activation is not None:\n",
    "            x = Activation(activation)(x)\n",
    "    else:\n",
    "        if batch_normalization:\n",
    "            x = BatchNormalization()(x)\n",
    "        if activation is not None:\n",
    "            x = Activation(activation)(x)\n",
    "        x = conv(x)\n",
    "    return x\n",
    "\n",
    "\n",
    "def resnet_v2(input_shape, depth, num_classes=4):\n",
    "    \"\"\"ResNet Version 2 Model builder [b]\n",
    "\n",
    "    Stacks of (1 x 1)-(3 x 3)-(1 x 1) BN-ReLU-Conv2D or also known as\n",
    "    bottleneck layer\n",
    "    First shortcut connection per layer is 1 x 1 Conv2D.\n",
    "    Second and onwards shortcut connection is identity.\n",
    "    At the beginning of each stage, the feature map size is halved (downsampled)\n",
    "    by a convolutional layer with strides=2, while the number of filter maps is\n",
    "    doubled. Within each stage, the layers have the same number filters and the\n",
    "    same filter map sizes.\n",
    "    Features maps sizes:\n",
    "    conv1  : 32x32,  16\n",
    "    stage 0: 32x32,  64\n",
    "    stage 1: 16x16, 128\n",
    "    stage 2:  8x8,  256\n",
    "\n",
    "    # Arguments\n",
    "        input_shape (tensor): shape of input image tensor\n",
    "        depth (int): number of core convolutional layers\n",
    "        num_classes (int): number of classes (CIFAR10 has 10)\n",
    "\n",
    "    # Returns\n",
    "        model (Model): Keras model instance\n",
    "    \"\"\"\n",
    "    if (depth - 2) % 9 != 0:\n",
    "        raise ValueError('depth should be 9n+2 (eg 56 or 110 in [b])')\n",
    "    # Start model definition.\n",
    "    num_filters_in = 16\n",
    "    num_res_blocks = int((depth - 2) / 9)\n",
    "\n",
    "    inputs = Input(shape=input_shape)\n",
    "    # v2 performs Conv2D with BN-ReLU on input before splitting into 2 paths\n",
    "    x = resnet_layer(inputs=inputs,\n",
    "                     num_filters=num_filters_in,\n",
    "                     conv_first=True)\n",
    "\n",
    "    # Instantiate the stack of residual units\n",
    "    for stage in range(3):\n",
    "        for res_block in range(num_res_blocks):\n",
    "            activation = 'relu'\n",
    "            batch_normalization = True\n",
    "            strides = 1\n",
    "            if stage == 0:\n",
    "                num_filters_out = num_filters_in * 4\n",
    "                if res_block == 0:  # first layer and first stage\n",
    "                    activation = None\n",
    "                    batch_normalization = False\n",
    "            else:\n",
    "                num_filters_out = num_filters_in * 2\n",
    "                if res_block == 0:  # first layer but not first stage\n",
    "                    strides = 2    # downsample\n",
    "\n",
    "            # bottleneck residual unit\n",
    "            y = resnet_layer(inputs=x,\n",
    "                             num_filters=num_filters_in,\n",
    "                             kernel_size=1,\n",
    "                             strides=strides,\n",
    "                             activation=activation,\n",
    "                             batch_normalization=batch_normalization,\n",
    "                             conv_first=False)\n",
    "            y = resnet_layer(inputs=y,\n",
    "                             num_filters=num_filters_in,\n",
    "                             conv_first=False)\n",
    "            y = resnet_layer(inputs=y,\n",
    "                             num_filters=num_filters_out,\n",
    "                             kernel_size=1,\n",
    "                             conv_first=False)\n",
    "            if res_block == 0:\n",
    "                # linear projection residual shortcut connection to match\n",
    "                # changed dims\n",
    "                x = resnet_layer(inputs=x,\n",
    "                                 num_filters=num_filters_out,\n",
    "                                 kernel_size=1,\n",
    "                                 strides=strides,\n",
    "                                 activation=None,\n",
    "                                 batch_normalization=False)\n",
    "            x = keras.layers.add([x, y])\n",
    "\n",
    "        num_filters_in = num_filters_out\n",
    "\n",
    "    # Add classifier on top.\n",
    "    # v2 has BN-ReLU before Pooling\n",
    "    x = BatchNormalization()(x)\n",
    "    x = Activation('relu')(x)\n",
    "    x = AveragePooling2D(pool_size=3)(x)\n",
    "    y = Flatten()(x)\n",
    "    y = Dense(num_classes*32,\n",
    "                      activation='relu',\n",
    "                      kernel_initializer='he_normal', kernel_regularizer=l2(1e-4))(y)\n",
    "    y = Dense(num_classes*16,\n",
    "                      activation='relu',\n",
    "                      kernel_initializer='he_normal', kernel_regularizer=l2(1e-4))(y)\n",
    "    y = Dense(num_classes*8,\n",
    "                      activation='relu',\n",
    "                      kernel_initializer='he_normal', kernel_regularizer=l2(1e-4))(y)\n",
    "      \n",
    "    outputs = Dense(num_classes,\n",
    "                    activation='linear',\n",
    "                    kernel_initializer='he_normal')(y)\n",
    "\n",
    "    # Instantiate model.\n",
    "    model = Model(inputs=inputs, outputs=outputs)\n",
    "    return model"
   ]
  },
  {
   "cell_type": "code",
   "execution_count": 4,
   "metadata": {
    "scrolled": true
   },
   "outputs": [],
   "source": [
    "model = resnet_v2(input_shape=(34,21,2), depth=20, num_classes=4)"
   ]
  },
  {
   "cell_type": "code",
   "execution_count": 5,
   "metadata": {},
   "outputs": [],
   "source": [
    "# 2D MODEL! OLD! Doesn't work! Gotta try L*L*20\n",
    "\n",
    "# Create the model\n",
    "# model = Sequential((\n",
    "#     Conv2D(filters=filters, kernel_size=5, padding='valid', activation='relu', input_shape=(34,21,2)),\n",
    "#     Dropout(0.1),\n",
    "#     Conv2D(filters=filters, kernel_size=3, padding='valid', activation='relu'),\n",
    "#     MaxPooling2D(pool_size=2),\n",
    "#     Conv2D(filters=filters*2, kernel_size=3, padding='valid', activation='relu'),\n",
    "#     Dropout(0.1),\n",
    "#     Conv2D(filters=filters*2, kernel_size=1, padding='valid', activation='relu'),\n",
    "#     Dropout(0.1),\n",
    "#     Conv2D(filters=filters*2, kernel_size=1, padding='valid', activation='relu'),\n",
    "#     MaxPooling2D(pool_size=2),\n",
    "#     Conv2D(filters=filters*2, kernel_size=1, padding='valid', activation='relu'),\n",
    "#     Flatten(),\n",
    "#     Dense(64, activation=\"relu\"),\n",
    "#     Dropout(0.1),\n",
    "#     Dense(32, activation=\"relu\"),\n",
    "#     Dense(4, activation=\"linear\")\n",
    "# ))\n",
    "# # model.compile(loss='categorical_crossentropy', optimizer=adam, metrics=[\"accuracy\"])\n",
    "# model.compile(loss=\"mean_squared_error\", optimizer=adam, metrics=[])"
   ]
  },
  {
   "cell_type": "code",
   "execution_count": 6,
   "metadata": {},
   "outputs": [],
   "source": [
    "# Create the model - 1D New! \n",
    "# model = Sequential((\n",
    "#      Conv1D(filters=filters, kernel_size=kernel_size, padding='same', activation='relu', input_shape=(34,42)),\n",
    "#      Dropout(0.05),\n",
    "#      Conv1D(filters=filters, kernel_size=kernel_size*3, padding='same', activation='relu'),\n",
    "#     \n",
    "#      MaxPooling1D(pool_size=2),\n",
    "#      Conv1D(filters=filters*2, kernel_size=kernel_size*3, padding='same', activation='relu'),\n",
    "#      Dropout(0.05),\n",
    "#      Conv1D(filters=filters*2, kernel_size=kernel_size, strides=2, padding='same', activation='relu'),\n",
    "#     \n",
    "#      MaxPooling1D(pool_size=2),\n",
    "#      Conv1D(filters=filters*4, kernel_size=kernel_size, strides=2, padding='same', activation='relu'),\n",
    "#      Dropout(0.05),\n",
    "#      Conv1D(filters=filters*4, kernel_size=kernel_size, strides=2, padding='same', activation='relu'),\n",
    "#      # MaxPooling1D(pool_size=2),\n",
    "#     \n",
    "#      Conv1D(filters=4, kernel_size=kernel_size, padding='same', activation='softmax'),\n",
    "#      Flatten()))\n",
    "# # model.compile(loss='categorical_crossentropy', optimizer=adam, metrics=[\"accuracy\"])\n",
    "# model.compile(loss=\"mean_squared_error\", optimizer=adam, metrics=[\"mean_absolute_error\"])"
   ]
  },
  {
   "cell_type": "code",
   "execution_count": 7,
   "metadata": {
    "scrolled": false
   },
   "outputs": [
    {
     "name": "stdout",
     "output_type": "stream",
     "text": [
      "__________________________________________________________________________________________________\n",
      "Layer (type)                    Output Shape         Param #     Connected to                     \n",
      "==================================================================================================\n",
      "input_1 (InputLayer)            (None, 34, 21, 2)    0                                            \n",
      "__________________________________________________________________________________________________\n",
      "conv2d_1 (Conv2D)               (None, 34, 21, 16)   304         input_1[0][0]                    \n",
      "__________________________________________________________________________________________________\n",
      "batch_normalization_1 (BatchNor (None, 34, 21, 16)   64          conv2d_1[0][0]                   \n",
      "__________________________________________________________________________________________________\n",
      "activation_1 (Activation)       (None, 34, 21, 16)   0           batch_normalization_1[0][0]      \n",
      "__________________________________________________________________________________________________\n",
      "conv2d_2 (Conv2D)               (None, 34, 21, 16)   272         activation_1[0][0]               \n",
      "__________________________________________________________________________________________________\n",
      "batch_normalization_2 (BatchNor (None, 34, 21, 16)   64          conv2d_2[0][0]                   \n",
      "__________________________________________________________________________________________________\n",
      "activation_2 (Activation)       (None, 34, 21, 16)   0           batch_normalization_2[0][0]      \n",
      "__________________________________________________________________________________________________\n",
      "conv2d_3 (Conv2D)               (None, 34, 21, 16)   2320        activation_2[0][0]               \n",
      "__________________________________________________________________________________________________\n",
      "batch_normalization_3 (BatchNor (None, 34, 21, 16)   64          conv2d_3[0][0]                   \n",
      "__________________________________________________________________________________________________\n",
      "activation_3 (Activation)       (None, 34, 21, 16)   0           batch_normalization_3[0][0]      \n",
      "__________________________________________________________________________________________________\n",
      "conv2d_5 (Conv2D)               (None, 34, 21, 64)   1088        activation_1[0][0]               \n",
      "__________________________________________________________________________________________________\n",
      "conv2d_4 (Conv2D)               (None, 34, 21, 64)   1088        activation_3[0][0]               \n",
      "__________________________________________________________________________________________________\n",
      "add_1 (Add)                     (None, 34, 21, 64)   0           conv2d_5[0][0]                   \n",
      "                                                                 conv2d_4[0][0]                   \n",
      "__________________________________________________________________________________________________\n",
      "batch_normalization_4 (BatchNor (None, 34, 21, 64)   256         add_1[0][0]                      \n",
      "__________________________________________________________________________________________________\n",
      "activation_4 (Activation)       (None, 34, 21, 64)   0           batch_normalization_4[0][0]      \n",
      "__________________________________________________________________________________________________\n",
      "conv2d_6 (Conv2D)               (None, 34, 21, 16)   1040        activation_4[0][0]               \n",
      "__________________________________________________________________________________________________\n",
      "batch_normalization_5 (BatchNor (None, 34, 21, 16)   64          conv2d_6[0][0]                   \n",
      "__________________________________________________________________________________________________\n",
      "activation_5 (Activation)       (None, 34, 21, 16)   0           batch_normalization_5[0][0]      \n",
      "__________________________________________________________________________________________________\n",
      "conv2d_7 (Conv2D)               (None, 34, 21, 16)   2320        activation_5[0][0]               \n",
      "__________________________________________________________________________________________________\n",
      "batch_normalization_6 (BatchNor (None, 34, 21, 16)   64          conv2d_7[0][0]                   \n",
      "__________________________________________________________________________________________________\n",
      "activation_6 (Activation)       (None, 34, 21, 16)   0           batch_normalization_6[0][0]      \n",
      "__________________________________________________________________________________________________\n",
      "conv2d_8 (Conv2D)               (None, 34, 21, 64)   1088        activation_6[0][0]               \n",
      "__________________________________________________________________________________________________\n",
      "add_2 (Add)                     (None, 34, 21, 64)   0           add_1[0][0]                      \n",
      "                                                                 conv2d_8[0][0]                   \n",
      "__________________________________________________________________________________________________\n",
      "batch_normalization_7 (BatchNor (None, 34, 21, 64)   256         add_2[0][0]                      \n",
      "__________________________________________________________________________________________________\n",
      "activation_7 (Activation)       (None, 34, 21, 64)   0           batch_normalization_7[0][0]      \n",
      "__________________________________________________________________________________________________\n",
      "conv2d_9 (Conv2D)               (None, 17, 11, 64)   4160        activation_7[0][0]               \n",
      "__________________________________________________________________________________________________\n",
      "batch_normalization_8 (BatchNor (None, 17, 11, 64)   256         conv2d_9[0][0]                   \n",
      "__________________________________________________________________________________________________\n",
      "activation_8 (Activation)       (None, 17, 11, 64)   0           batch_normalization_8[0][0]      \n",
      "__________________________________________________________________________________________________\n",
      "conv2d_10 (Conv2D)              (None, 17, 11, 64)   36928       activation_8[0][0]               \n",
      "__________________________________________________________________________________________________\n",
      "batch_normalization_9 (BatchNor (None, 17, 11, 64)   256         conv2d_10[0][0]                  \n",
      "__________________________________________________________________________________________________\n",
      "activation_9 (Activation)       (None, 17, 11, 64)   0           batch_normalization_9[0][0]      \n",
      "__________________________________________________________________________________________________\n",
      "conv2d_12 (Conv2D)              (None, 17, 11, 128)  8320        add_2[0][0]                      \n",
      "__________________________________________________________________________________________________\n",
      "conv2d_11 (Conv2D)              (None, 17, 11, 128)  8320        activation_9[0][0]               \n",
      "__________________________________________________________________________________________________\n",
      "add_3 (Add)                     (None, 17, 11, 128)  0           conv2d_12[0][0]                  \n",
      "                                                                 conv2d_11[0][0]                  \n",
      "__________________________________________________________________________________________________\n",
      "batch_normalization_10 (BatchNo (None, 17, 11, 128)  512         add_3[0][0]                      \n",
      "__________________________________________________________________________________________________\n",
      "activation_10 (Activation)      (None, 17, 11, 128)  0           batch_normalization_10[0][0]     \n",
      "__________________________________________________________________________________________________\n",
      "conv2d_13 (Conv2D)              (None, 17, 11, 64)   8256        activation_10[0][0]              \n",
      "__________________________________________________________________________________________________\n",
      "batch_normalization_11 (BatchNo (None, 17, 11, 64)   256         conv2d_13[0][0]                  \n",
      "__________________________________________________________________________________________________\n",
      "activation_11 (Activation)      (None, 17, 11, 64)   0           batch_normalization_11[0][0]     \n",
      "__________________________________________________________________________________________________\n",
      "conv2d_14 (Conv2D)              (None, 17, 11, 64)   36928       activation_11[0][0]              \n",
      "__________________________________________________________________________________________________\n",
      "batch_normalization_12 (BatchNo (None, 17, 11, 64)   256         conv2d_14[0][0]                  \n",
      "__________________________________________________________________________________________________\n",
      "activation_12 (Activation)      (None, 17, 11, 64)   0           batch_normalization_12[0][0]     \n",
      "__________________________________________________________________________________________________\n",
      "conv2d_15 (Conv2D)              (None, 17, 11, 128)  8320        activation_12[0][0]              \n",
      "__________________________________________________________________________________________________\n",
      "add_4 (Add)                     (None, 17, 11, 128)  0           add_3[0][0]                      \n",
      "                                                                 conv2d_15[0][0]                  \n",
      "__________________________________________________________________________________________________\n",
      "batch_normalization_13 (BatchNo (None, 17, 11, 128)  512         add_4[0][0]                      \n",
      "__________________________________________________________________________________________________\n",
      "activation_13 (Activation)      (None, 17, 11, 128)  0           batch_normalization_13[0][0]     \n",
      "__________________________________________________________________________________________________\n",
      "conv2d_16 (Conv2D)              (None, 9, 6, 128)    16512       activation_13[0][0]              \n",
      "__________________________________________________________________________________________________\n",
      "batch_normalization_14 (BatchNo (None, 9, 6, 128)    512         conv2d_16[0][0]                  \n",
      "__________________________________________________________________________________________________\n",
      "activation_14 (Activation)      (None, 9, 6, 128)    0           batch_normalization_14[0][0]     \n",
      "__________________________________________________________________________________________________\n",
      "conv2d_17 (Conv2D)              (None, 9, 6, 128)    147584      activation_14[0][0]              \n",
      "__________________________________________________________________________________________________\n",
      "batch_normalization_15 (BatchNo (None, 9, 6, 128)    512         conv2d_17[0][0]                  \n",
      "__________________________________________________________________________________________________\n",
      "activation_15 (Activation)      (None, 9, 6, 128)    0           batch_normalization_15[0][0]     \n",
      "__________________________________________________________________________________________________\n",
      "conv2d_19 (Conv2D)              (None, 9, 6, 256)    33024       add_4[0][0]                      \n",
      "__________________________________________________________________________________________________\n",
      "conv2d_18 (Conv2D)              (None, 9, 6, 256)    33024       activation_15[0][0]              \n",
      "__________________________________________________________________________________________________\n",
      "add_5 (Add)                     (None, 9, 6, 256)    0           conv2d_19[0][0]                  \n",
      "                                                                 conv2d_18[0][0]                  \n",
      "__________________________________________________________________________________________________\n",
      "batch_normalization_16 (BatchNo (None, 9, 6, 256)    1024        add_5[0][0]                      \n",
      "__________________________________________________________________________________________________\n",
      "activation_16 (Activation)      (None, 9, 6, 256)    0           batch_normalization_16[0][0]     \n",
      "__________________________________________________________________________________________________\n",
      "conv2d_20 (Conv2D)              (None, 9, 6, 128)    32896       activation_16[0][0]              \n",
      "__________________________________________________________________________________________________\n",
      "batch_normalization_17 (BatchNo (None, 9, 6, 128)    512         conv2d_20[0][0]                  \n",
      "__________________________________________________________________________________________________\n",
      "activation_17 (Activation)      (None, 9, 6, 128)    0           batch_normalization_17[0][0]     \n",
      "__________________________________________________________________________________________________\n",
      "conv2d_21 (Conv2D)              (None, 9, 6, 128)    147584      activation_17[0][0]              \n",
      "__________________________________________________________________________________________________\n",
      "batch_normalization_18 (BatchNo (None, 9, 6, 128)    512         conv2d_21[0][0]                  \n",
      "__________________________________________________________________________________________________\n",
      "activation_18 (Activation)      (None, 9, 6, 128)    0           batch_normalization_18[0][0]     \n",
      "__________________________________________________________________________________________________\n",
      "conv2d_22 (Conv2D)              (None, 9, 6, 256)    33024       activation_18[0][0]              \n",
      "__________________________________________________________________________________________________\n",
      "add_6 (Add)                     (None, 9, 6, 256)    0           add_5[0][0]                      \n",
      "                                                                 conv2d_22[0][0]                  \n",
      "__________________________________________________________________________________________________\n",
      "batch_normalization_19 (BatchNo (None, 9, 6, 256)    1024        add_6[0][0]                      \n",
      "__________________________________________________________________________________________________\n",
      "activation_19 (Activation)      (None, 9, 6, 256)    0           batch_normalization_19[0][0]     \n",
      "__________________________________________________________________________________________________\n",
      "average_pooling2d_1 (AveragePoo (None, 3, 2, 256)    0           activation_19[0][0]              \n",
      "__________________________________________________________________________________________________\n",
      "flatten_1 (Flatten)             (None, 1536)         0           average_pooling2d_1[0][0]        \n",
      "__________________________________________________________________________________________________\n",
      "dense_1 (Dense)                 (None, 128)          196736      flatten_1[0][0]                  \n",
      "__________________________________________________________________________________________________\n",
      "dense_2 (Dense)                 (None, 64)           8256        dense_1[0][0]                    \n",
      "__________________________________________________________________________________________________\n",
      "dense_3 (Dense)                 (None, 32)           2080        dense_2[0][0]                    \n",
      "__________________________________________________________________________________________________\n",
      "dense_4 (Dense)                 (None, 4)            132         dense_3[0][0]                    \n",
      "==================================================================================================\n",
      "Total params: 778,580\n",
      "Trainable params: 775,092\n",
      "Non-trainable params: 3,488\n",
      "__________________________________________________________________________________________________\n"
     ]
    }
   ],
   "source": [
    "model.compile(optimizer=adam, loss=\"mean_squared_error\", metrics=[\"mean_absolute_error\"])\n",
    "model.summary()"
   ]
  },
  {
   "cell_type": "code",
   "execution_count": 8,
   "metadata": {},
   "outputs": [
    {
     "data": {
      "text/plain": [
       "(43001, 2)"
      ]
     },
     "execution_count": 8,
     "metadata": {},
     "output_type": "execute_result"
    }
   ],
   "source": [
    "outputs = np.genfromtxt(\"../data/distanced/ANGLES/outputs.txt\")\n",
    "outputs[np.isnan(outputs)] = 0.0\n",
    "# Idea convert to sin/cos to remove angle periodicity\n",
    "outputs.shape"
   ]
  },
  {
   "cell_type": "code",
   "execution_count": 9,
   "metadata": {},
   "outputs": [
    {
     "name": "stdout",
     "output_type": "stream",
     "text": [
      "(43001, 4)\n"
     ]
    }
   ],
   "source": [
    "out = []\n",
    "out.append(np.sin(outputs[:,0]))\n",
    "out.append(np.cos(outputs[:,0]))\n",
    "out.append(np.sin(outputs[:,1]))\n",
    "out.append(np.cos(outputs[:,1]))\n",
    "out = np.array(out).T\n",
    "print(out.shape)"
   ]
  },
  {
   "cell_type": "code",
   "execution_count": 10,
   "metadata": {},
   "outputs": [],
   "source": [
    "def get_ins(path = \"../data/distanced/ANGLES/input_aa.txt\", pssm=None):\n",
    "    # handle both files\n",
    "    if pssm: path = \"../data/distanced/ANGLES/input_pssm.txt\"\n",
    "    # Opn file and read text\n",
    "    with open(path, \"r\") as f:\n",
    "        lines = f.read().split('\\n')\n",
    "    # Extract numeric data from text\n",
    "    pre_ins = []\n",
    "    for i,line in enumerate(lines):\n",
    "        # Read each protein separately\n",
    "        if line == \"NEW\":\n",
    "            prot = []\n",
    "            raw = lines[i+1:i+35]\n",
    "            # Read each line as a vector + ensemble one-hot vectors matrix\n",
    "            for r in raw:\n",
    "                prot.append(np.array([float(x) for x in r.split(\" \") if x != \"\"]))\n",
    "            # Add prot to dataset\n",
    "            pre_ins.append(np.array(prot))  \n",
    "    \n",
    "    return np.array(pre_ins)"
   ]
  },
  {
   "cell_type": "code",
   "execution_count": 11,
   "metadata": {},
   "outputs": [
    {
     "name": "stdout",
     "output_type": "stream",
     "text": [
      "(43001, 34, 21) (43001, 34, 21)\n"
     ]
    },
    {
     "data": {
      "text/plain": [
       "(43001, 34, 21, 2)"
      ]
     },
     "execution_count": 11,
     "metadata": {},
     "output_type": "execute_result"
    }
   ],
   "source": [
    "aas = get_ins()\n",
    "pssms = get_ins(pssm=True)\n",
    "# Check shapes match\n",
    "print(aas.shape, pssms.shape)\n",
    "# inputs = np.concatenate((aas, pssms), axis=2)\n",
    "inputs = np.concatenate((aas.reshape((*aas.shape,1)), pssms.reshape((*pssms.shape,1))), axis=3)\n",
    "# inputs = pssms.reshape((*aas.shape,1))\n",
    "inputs.shape"
   ]
  },
  {
   "cell_type": "code",
   "execution_count": 12,
   "metadata": {},
   "outputs": [],
   "source": [
    "# print(np.sin(-1.61735004), np.cos(-1.61735004), np.arccos(1.61))\n",
    "import matplotlib.pyplot as plt"
   ]
  },
  {
   "cell_type": "code",
   "execution_count": 13,
   "metadata": {},
   "outputs": [
    {
     "data": {
      "image/png": "[encoded data removed]",
      "text/plain": [
       "<Figure size 432x288 with 1 Axes>"
      ]
     },
     "metadata": {
      "needs_background": "light"
     },
     "output_type": "display_data"
    }
   ],
   "source": [
    "plt.scatter(outputs[:1000,0], outputs[:1000,1], marker=\".\")\n",
    "plt.xlim(-np.pi, np.pi)\n",
    "plt.ylim(-np.pi, np.pi)\n",
    "plt.show()"
   ]
  },
  {
   "cell_type": "code",
   "execution_count": 14,
   "metadata": {},
   "outputs": [],
   "source": [
    "# Preprocess outputs (mean/std)\n",
    "# mean = np.mean(inputs,axis=(0,1,2))\n",
    "# std = np.std(inputs,axis=(0,1,2))\n",
    "# print(\"Mean: \", mean)\n",
    "# print(\"Std: \", std)\n",
    "# pre_inputs = (inputs-mean)/(std+1e-7)"
   ]
  },
  {
   "cell_type": "code",
   "execution_count": 15,
   "metadata": {},
   "outputs": [
    {
     "name": "stdout",
     "output_type": "stream",
     "text": [
      "Train on 38700 samples, validate on 4301 samples\n",
      "Epoch 1/5\n",
      "38700/38700 [==============================] - 64s 2ms/step - loss: 0.5137 - mean_absolute_error: 0.4557 - val_loss: 0.4552 - val_mean_absolute_error: 0.4622\n",
      "Epoch 2/5\n",
      "38700/38700 [==============================] - 59s 2ms/step - loss: 0.3550 - mean_absolute_error: 0.4134 - val_loss: 0.3619 - val_mean_absolute_error: 0.4129\n",
      "Epoch 3/5\n",
      "38700/38700 [==============================] - 59s 2ms/step - loss: 0.3264 - mean_absolute_error: 0.3970 - val_loss: 0.3328 - val_mean_absolute_error: 0.4239\n",
      "Epoch 4/5\n",
      "38700/38700 [==============================] - 60s 2ms/step - loss: 0.3133 - mean_absolute_error: 0.3882 - val_loss: 0.3222 - val_mean_absolute_error: 0.4003\n",
      "Epoch 5/5\n",
      "38700/38700 [==============================] - 59s 2ms/step - loss: 0.3051 - mean_absolute_error: 0.3825 - val_loss: 0.3352 - val_mean_absolute_error: 0.4060\n"
     ]
    }
   ],
   "source": [
    "his = model.fit(pre_inputs, out, epochs=5, batch_size=16, verbose=1, shuffle=True, validation_split=0.1)"
   ]
  },
  {
   "cell_type": "code",
   "execution_count": 23,
   "metadata": {},
   "outputs": [],
   "source": [
    "n = 30000\n",
    "preds = model.predict(inputs)"
   ]
  },
  {
   "cell_type": "code",
   "execution_count": 24,
   "metadata": {},
   "outputs": [
    {
     "name": "stdout",
     "output_type": "stream",
     "text": [
      "(43001, 2)\n"
     ]
    }
   ],
   "source": [
    "# Get angle values from sin and cos\n",
    "refactor = []\n",
    "for pred in preds:\n",
    "    angles = []\n",
    "    phi_sin, phi_cos, psi_sin, psi_cos = pred[0], pred[1], pred[2], pred[3]\n",
    "    # PHI - First and fourth quadrant\n",
    "    if (phi_sin>=0 and phi_cos>=0) or (phi_cos>=0 and phi_sin<=0):\n",
    "        angles.append(np.arctan(phi_sin/phi_cos))\n",
    "    # 2nd and 3rd quadrant\n",
    "    else:\n",
    "        angles.append(np.pi + np.arctan(phi_sin/phi_cos))\n",
    "        \n",
    "    # PSI - First and fourth quadrant\n",
    "    if (psi_sin>=0 and psi_cos>=0) or (psi_cos>=0 and psi_sin<=0):\n",
    "        angles.append(np.arctan(psi_sin/psi_cos))\n",
    "    # 2nd and 3rd quadrant\n",
    "    else:\n",
    "        angles.append(np.pi + np.arctan(psi_sin/psi_cos))\n",
    "    \n",
    "    refactor.append(angles)\n",
    "    \n",
    "refactor = np.array(refactor)\n",
    "print(refactor.shape)"
   ]
  },
  {
   "cell_type": "code",
   "execution_count": 25,
   "metadata": {},
   "outputs": [
    {
     "name": "stdout",
     "output_type": "stream",
     "text": [
      "PREDS:  [[-0.8543531   0.43194383 -0.5534888   0.7521644 ]\n",
      " [-0.8579048   0.43100846 -0.548429    0.75711185]\n",
      " [-0.8855319   0.4572087  -0.5929511   0.77805233]\n",
      " [-0.82262087  0.3857282  -0.41619065  0.6795308 ]\n",
      " [-0.8870904   0.4340134  -0.5203424   0.77559215]\n",
      " [-0.9051298   0.4381493  -0.5134807   0.79178876]\n",
      " [-0.7985983   0.36717594 -0.38827917  0.6593601 ]\n",
      " [-0.7779317   0.32257533 -0.26899448  0.6277177 ]\n",
      " [-0.7878009   0.34438422 -0.32631952  0.6414184 ]\n",
      " [-0.8712368   0.421814   -0.4859305   0.74219066]]\n",
      "OUT:  [[-0.94721609  0.32059581 -0.54838003  0.83622924]\n",
      " [-0.94905318  0.31511594 -0.6161996   0.78759003]\n",
      " [-0.86777245  0.49696175 -0.80098553  0.59868371]\n",
      " [-0.82312062  0.56786657 -0.70673363  0.70747974]\n",
      " [-0.88635648  0.46300344 -0.60537819  0.79593797]\n",
      " [-0.90778681  0.41943188 -0.66689475  0.74515193]\n",
      " [-0.88817726  0.45950098 -0.71148714  0.70269911]\n",
      " [-0.86405567  0.50339627 -0.61399356  0.78931104]\n",
      " [-0.89481838  0.44643036 -0.67936327  0.73380212]\n",
      " [-0.87093638  0.4913958  -0.69151746  0.72235974]]\n",
      "----------------------------------------\n",
      "REFACTOR:  [[-1.10269463 -0.63439083]\n",
      " [-1.10523331 -0.62689507]\n",
      " [-1.09418631 -0.65119815]\n",
      " [-1.13233554 -0.54953653]\n",
      " [-1.11578155 -0.59092551]\n",
      " [-1.11997092 -0.57532513]\n",
      " [-1.13984287 -0.53219754]\n",
      " [-1.17771828 -0.40485492]\n",
      " [-1.15868282 -0.47062048]\n",
      " [-1.11990452 -0.57968938]]\n",
      "OUTPUTS:  [[-1.2444379  -0.58042577]\n",
      " [-1.25021751 -0.66390819]\n",
      " [-1.05070228 -0.92893957]\n",
      " [-0.96688468 -0.78487058]\n",
      " [-1.08941559 -0.65024093]\n",
      " [-1.13797692 -0.7300337 ]\n",
      " [-1.09336306 -0.79161228]\n",
      " [-1.04327142 -0.66111024]\n",
      " [-1.10802421 -0.74689457]\n",
      " [-1.05710466 -0.76358765]]\n"
     ]
    }
   ],
   "source": [
    "print(\"PREDS: \", preds[:10])\n",
    "print(\"OUT: \", out[:10])\n",
    "print(\"----------------------------------------\")\n",
    "print(\"REFACTOR: \", refactor[:10])\n",
    "print(\"OUTPUTS: \", outputs[:10])"
   ]
  },
  {
   "cell_type": "code",
   "execution_count": 26,
   "metadata": {},
   "outputs": [
    {
     "data": {
      "image/png": "[encoded data removed]",
      "text/plain": [
       "<Figure size 432x288 with 1 Axes>"
      ]
     },
     "metadata": {
      "needs_background": "light"
     },
     "output_type": "display_data"
    }
   ],
   "source": [
    "plt.scatter(refactor[:,0], refactor[:,1], marker=\".\")\n",
    "plt.scatter(outputs[:n,0], outputs[:n,1], marker=\".\")\n",
    "plt.legend([\"Predictions distribution\", \"Truth distribution\"], loc=\"lower right\")\n",
    "plt.xlim(-np.pi, np.pi)\n",
    "plt.ylim(-np.pi, np.pi)\n",
    "plt.show()"
   ]
  },
  {
   "cell_type": "code",
   "execution_count": 41,
   "metadata": {},
   "outputs": [
    {
     "name": "stdout",
     "output_type": "stream",
     "text": [
      "Correlation coefficients - SOTA is Phi: 0.65 | Psi: 0.7\n",
      "Cos Phi:  0.49297633001475943\n",
      "Cos Psi:  0.5794534719985149\n"
     ]
    }
   ],
   "source": [
    "# Correlattion coefficients are: - model.save(\"resnet_20_normalized012_5epochs.h5\")\n",
    "# Calculate Perason coefficient btwn cosines of both angles (true values and predicted ones)\n",
    "cos_phi = np.corrcoef(preds[:, 1], out[:, 1])\n",
    "cos_psi = np.corrcoef(preds[:, 3], out[:, 3])\n",
    "\n",
    "print(\"Correlation coefficients - SOTA is Phi: 0.65 | Psi: 0.7\")\n",
    "print(\"Cos Phi: \", cos_phi[0,1])\n",
    "print(\"Cos Psi: \", cos_psi[0,1])"
   ]
  },
  {
   "cell_type": "code",
   "execution_count": 22,
   "metadata": {},
   "outputs": [],
   "source": [
    "model.save(\"resnet_20_normalized012_5epochs.h5\")"
   ]
  },
  {
   "cell_type": "code",
   "execution_count": 30,
   "metadata": {},
   "outputs": [],
   "source": [
    "model = load_model(\"resnet_20_normalized012_5epochs.h5\")"
   ]
  },
  {
   "cell_type": "code",
   "execution_count": null,
   "metadata": {},
   "outputs": [],
   "source": []
  },
  {
   "cell_type": "code",
   "execution_count": null,
   "metadata": {},
   "outputs": [],
   "source": []
  }
 ],
 "metadata": {
  "kernelspec": {
   "display_name": "Python 3",
   "language": "python",
   "name": "python3"
  },
  "language_info": {
   "codemirror_mode": {
    "name": "ipython",
    "version": 3
   },
   "file_extension": ".py",
   "mimetype": "text/x-python",
   "name": "python",
   "nbconvert_exporter": "python",
   "pygments_lexer": "ipython3",
   "version": "3.6.7"
  }
 },
 "nbformat": 4,
 "nbformat_minor": 2
}
