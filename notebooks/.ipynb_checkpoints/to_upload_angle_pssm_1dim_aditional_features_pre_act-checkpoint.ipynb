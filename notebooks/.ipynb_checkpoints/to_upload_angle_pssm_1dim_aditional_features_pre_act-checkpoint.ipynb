{
 "cells": [
  {
   "cell_type": "code",
   "execution_count": 1,
   "metadata": {},
   "outputs": [
    {
     "name": "stderr",
     "output_type": "stream",
     "text": [
      "Using TensorFlow backend.\n"
     ]
    }
   ],
   "source": [
    "# Import libraries\n",
    "import numpy as np\n",
    "import pandas as pd\n",
    "import matplotlib.pyplot as plt\n",
    "from keras.models import Sequential, load_model, Model\n",
    "from keras.layers import Dense, Embedding, Dropout, Flatten, UpSampling1D, UpSampling2D\n",
    "from keras.layers.convolutional import Conv1D, Conv2D, Conv2DTranspose\n",
    "from keras.layers.pooling import MaxPooling1D, AveragePooling1D, MaxPooling2D, AveragePooling2D\n",
    "import keras.backend as K\n",
    "import keras\n",
    "\n",
    "from keras.layers import BatchNormalization, Activation\n",
    "from keras.layers import Input\n",
    "from keras.regularizers import l2\n",
    "from keras.losses import mean_squared_error, mean_absolute_error"
   ]
  },
  {
   "cell_type": "code",
   "execution_count": 2,
   "metadata": {},
   "outputs": [],
   "source": [
    "kernel_size, filters = 3, 16\n",
    "adam = keras.optimizers.Adam(lr=0.001, beta_1=0.9, beta_2=0.999, epsilon=None, decay=0.0, amsgrad=True)"
   ]
  },
  {
   "cell_type": "code",
   "execution_count": 3,
   "metadata": {},
   "outputs": [],
   "source": [
    "def custom_mse_mae(y_true, y_pred):\n",
    "    return mean_squared_error(y_true, y_pred)+mean_absolute_error(y_true, y_pred)"
   ]
  },
  {
   "cell_type": "code",
   "execution_count": 4,
   "metadata": {},
   "outputs": [],
   "source": [
    "def resnet_layer(inputs,\n",
    "                 num_filters=16,\n",
    "                 kernel_size=3,\n",
    "                 strides=1,\n",
    "                 activation='relu',\n",
    "                 batch_normalization=True,\n",
    "                 conv_first=False):\n",
    "    \"\"\"2D Convolution-Batch Normalization-Activation stack builder\n",
    "\n",
    "    # Arguments\n",
    "        inputs (tensor): input tensor from input image or previous layer\n",
    "        num_filters (int): Conv2D number of filters\n",
    "        kernel_size (int): Conv2D square kernel dimensions\n",
    "        strides (int): Conv2D square stride dimensions\n",
    "        activation (string): activation name\n",
    "        batch_normalization (bool): whether to include batch normalization\n",
    "        conv_first (bool): conv-bn-activation (True) or\n",
    "            bn-activation-conv (False)\n",
    "\n",
    "    # Returns\n",
    "        x (tensor): tensor as input to the next layer\n",
    "    \"\"\"\n",
    "    conv = Conv1D(num_filters,\n",
    "                  kernel_size=kernel_size,\n",
    "                  strides=strides,\n",
    "                  padding='same',\n",
    "                  kernel_initializer='he_normal',\n",
    "                  kernel_regularizer=l2(1e-4))\n",
    "\n",
    "    x = inputs\n",
    "    if conv_first:\n",
    "        x = conv(x)\n",
    "        if batch_normalization:\n",
    "            x = BatchNormalization()(x)\n",
    "        if activation is not None:\n",
    "            x = Activation(activation)(x)\n",
    "    else:\n",
    "        if batch_normalization:\n",
    "            x = BatchNormalization()(x)\n",
    "        if activation is not None:\n",
    "            x = Activation(activation)(x)\n",
    "        x = conv(x)\n",
    "    return x\n",
    "\n",
    "\n",
    "def resnet_v2(input_shape, depth, num_classes=4):\n",
    "    \"\"\"ResNet Version 2 Model builder [b]\n",
    "\n",
    "    Stacks of (1 x 1)-(3 x 3)-(1 x 1) BN-ReLU-Conv2D or also known as\n",
    "    bottleneck layer\n",
    "    First shortcut connection per layer is 1 x 1 Conv2D.\n",
    "    Second and onwards shortcut connection is identity.\n",
    "    At the beginning of each stage, the feature map size is halved (downsampled)\n",
    "    by a convolutional layer with strides=2, while the number of filter maps is\n",
    "    doubled. Within each stage, the layers have the same number filters and the\n",
    "    same filter map sizes.\n",
    "    Features maps sizes:\n",
    "    conv1  : 32,  16\n",
    "    stage 0: 32,  64\n",
    "    stage 1: 16, 128\n",
    "    stage 2:  8,  256\n",
    "\n",
    "    # Arguments\n",
    "        input_shape (tensor): shape of input image tensor\n",
    "        depth (int): number of core convolutional layers\n",
    "        num_classes (int): number of classes (CIFAR10 has 10)\n",
    "\n",
    "    # Returns\n",
    "        model (Model): Keras model instance\n",
    "    \"\"\"\n",
    "    if (depth - 2) % 9 != 0:\n",
    "        raise ValueError('depth should be 9n+2 (eg 56 or 110 in [b])')\n",
    "    # Start model definition.\n",
    "    num_filters_in = 16\n",
    "    num_res_blocks = int((depth - 2) / 9)\n",
    "\n",
    "    inputs = Input(shape=input_shape)\n",
    "    # v2 performs Conv1D with BN-ReLU on input before splitting into 2 paths\n",
    "    x = resnet_layer(inputs=inputs,\n",
    "                     num_filters=num_filters_in,\n",
    "                     conv_first=True)\n",
    "\n",
    "    # Instantiate the stack of residual units\n",
    "    for stage in range(3):\n",
    "        for res_block in range(num_res_blocks):\n",
    "            activation = 'relu'\n",
    "            batch_normalization = True\n",
    "            strides = 1\n",
    "            if stage == 0:\n",
    "                num_filters_out = num_filters_in * 4\n",
    "                if res_block == 0:  # first layer and first stage\n",
    "                    activation = None\n",
    "                    batch_normalization = False\n",
    "            else:\n",
    "                num_filters_out = num_filters_in * 2\n",
    "                if res_block == 0:  # first layer but not first stage\n",
    "                    strides = 2    # downsample\n",
    "\n",
    "            # bottleneck residual unit\n",
    "            y = resnet_layer(inputs=x,\n",
    "                             num_filters=num_filters_in,\n",
    "                             kernel_size=1,\n",
    "                             strides=strides,\n",
    "                             activation=activation,\n",
    "                             batch_normalization=batch_normalization,\n",
    "                             conv_first=True)\n",
    "            y = resnet_layer(inputs=y,\n",
    "                             num_filters=num_filters_in,\n",
    "                             conv_first=True)\n",
    "            y = resnet_layer(inputs=y,\n",
    "                             num_filters=num_filters_out,\n",
    "                             kernel_size=1,\n",
    "                             conv_first=True)\n",
    "            if res_block == 0:\n",
    "                # linear projection residual shortcut connection to match\n",
    "                # changed dims\n",
    "                x = resnet_layer(inputs=x,\n",
    "                                 num_filters=num_filters_out,\n",
    "                                 kernel_size=1,\n",
    "                                 strides=strides,\n",
    "                                 activation=None,\n",
    "                                 batch_normalization=False)\n",
    "            x = keras.layers.add([x, y])\n",
    "\n",
    "        num_filters_in = num_filters_out\n",
    "\n",
    "    # Add classifier on top.\n",
    "    # v2 has BN-ReLU before Pooling\n",
    "    x = BatchNormalization()(x)\n",
    "    x = Activation('relu')(x)\n",
    "    x = AveragePooling1D(pool_size=3)(x)\n",
    "    y = Flatten()(x)\n",
    "#    y = Dense(num_classes*32,\n",
    "#                      activation='relu',\n",
    "#                      kernel_initializer='he_normal', kernel_regularizer=l2(1e-4))(y)\n",
    "#    y = Dense(num_classes*16,\n",
    "#                      activation='relu',\n",
    "#                      kernel_initializer='he_normal', kernel_regularizer=l2(1e-4))(y)\n",
    "#    y = Dense(num_classes*8,\n",
    "#                      activation='relu',\n",
    "#                      kernel_initializer='he_normal', kernel_regularizer=l2(1e-4))(y)\n",
    "#      \n",
    "    outputs = Dense(num_classes,\n",
    "                    activation='linear',\n",
    "                    kernel_initializer='he_normal')(y)\n",
    "\n",
    "    # Instantiate model.\n",
    "    model = Model(inputs=inputs, outputs=outputs)\n",
    "    return model"
   ]
  },
  {
   "cell_type": "code",
   "execution_count": 19,
   "metadata": {
    "scrolled": true
   },
   "outputs": [],
   "source": [
    "model = resnet_v2(input_shape=(17*2,41), depth=20, num_classes=4)"
   ]
  },
  {
   "cell_type": "code",
   "execution_count": 22,
   "metadata": {
    "scrolled": true
   },
   "outputs": [
    {
     "name": "stdout",
     "output_type": "stream",
     "text": [
      "__________________________________________________________________________________________________\n",
      "Layer (type)                    Output Shape         Param #     Connected to                     \n",
      "==================================================================================================\n",
      "input_2 (InputLayer)            (None, 34, 41)       0                                            \n",
      "__________________________________________________________________________________________________\n",
      "conv1d_23 (Conv1D)              (None, 34, 16)       1984        input_2[0][0]                    \n",
      "__________________________________________________________________________________________________\n",
      "batch_normalization_20 (BatchNo (None, 34, 16)       64          conv1d_23[0][0]                  \n",
      "__________________________________________________________________________________________________\n",
      "activation_20 (Activation)      (None, 34, 16)       0           batch_normalization_20[0][0]     \n",
      "__________________________________________________________________________________________________\n",
      "conv1d_24 (Conv1D)              (None, 34, 16)       272         activation_20[0][0]              \n",
      "__________________________________________________________________________________________________\n",
      "conv1d_25 (Conv1D)              (None, 34, 16)       784         conv1d_24[0][0]                  \n",
      "__________________________________________________________________________________________________\n",
      "batch_normalization_21 (BatchNo (None, 34, 16)       64          conv1d_25[0][0]                  \n",
      "__________________________________________________________________________________________________\n",
      "activation_21 (Activation)      (None, 34, 16)       0           batch_normalization_21[0][0]     \n",
      "__________________________________________________________________________________________________\n",
      "conv1d_26 (Conv1D)              (None, 34, 64)       1088        activation_21[0][0]              \n",
      "__________________________________________________________________________________________________\n",
      "batch_normalization_22 (BatchNo (None, 34, 64)       256         conv1d_26[0][0]                  \n",
      "__________________________________________________________________________________________________\n",
      "conv1d_27 (Conv1D)              (None, 34, 64)       1088        activation_20[0][0]              \n",
      "__________________________________________________________________________________________________\n",
      "activation_22 (Activation)      (None, 34, 64)       0           batch_normalization_22[0][0]     \n",
      "__________________________________________________________________________________________________\n",
      "add_7 (Add)                     (None, 34, 64)       0           conv1d_27[0][0]                  \n",
      "                                                                 activation_22[0][0]              \n",
      "__________________________________________________________________________________________________\n",
      "conv1d_28 (Conv1D)              (None, 34, 16)       1040        add_7[0][0]                      \n",
      "__________________________________________________________________________________________________\n",
      "batch_normalization_23 (BatchNo (None, 34, 16)       64          conv1d_28[0][0]                  \n",
      "__________________________________________________________________________________________________\n",
      "activation_23 (Activation)      (None, 34, 16)       0           batch_normalization_23[0][0]     \n",
      "__________________________________________________________________________________________________\n",
      "conv1d_29 (Conv1D)              (None, 34, 16)       784         activation_23[0][0]              \n",
      "__________________________________________________________________________________________________\n",
      "batch_normalization_24 (BatchNo (None, 34, 16)       64          conv1d_29[0][0]                  \n",
      "__________________________________________________________________________________________________\n",
      "activation_24 (Activation)      (None, 34, 16)       0           batch_normalization_24[0][0]     \n",
      "__________________________________________________________________________________________________\n",
      "conv1d_30 (Conv1D)              (None, 34, 64)       1088        activation_24[0][0]              \n",
      "__________________________________________________________________________________________________\n",
      "batch_normalization_25 (BatchNo (None, 34, 64)       256         conv1d_30[0][0]                  \n",
      "__________________________________________________________________________________________________\n",
      "activation_25 (Activation)      (None, 34, 64)       0           batch_normalization_25[0][0]     \n",
      "__________________________________________________________________________________________________\n",
      "add_8 (Add)                     (None, 34, 64)       0           add_7[0][0]                      \n",
      "                                                                 activation_25[0][0]              \n",
      "__________________________________________________________________________________________________\n",
      "conv1d_31 (Conv1D)              (None, 17, 64)       4160        add_8[0][0]                      \n",
      "__________________________________________________________________________________________________\n",
      "batch_normalization_26 (BatchNo (None, 17, 64)       256         conv1d_31[0][0]                  \n",
      "__________________________________________________________________________________________________\n",
      "activation_26 (Activation)      (None, 17, 64)       0           batch_normalization_26[0][0]     \n",
      "__________________________________________________________________________________________________\n",
      "conv1d_32 (Conv1D)              (None, 17, 64)       12352       activation_26[0][0]              \n",
      "__________________________________________________________________________________________________\n",
      "batch_normalization_27 (BatchNo (None, 17, 64)       256         conv1d_32[0][0]                  \n",
      "__________________________________________________________________________________________________\n",
      "activation_27 (Activation)      (None, 17, 64)       0           batch_normalization_27[0][0]     \n",
      "__________________________________________________________________________________________________\n",
      "conv1d_33 (Conv1D)              (None, 17, 128)      8320        activation_27[0][0]              \n",
      "__________________________________________________________________________________________________\n",
      "batch_normalization_28 (BatchNo (None, 17, 128)      512         conv1d_33[0][0]                  \n",
      "__________________________________________________________________________________________________\n",
      "conv1d_34 (Conv1D)              (None, 17, 128)      8320        add_8[0][0]                      \n",
      "__________________________________________________________________________________________________\n",
      "activation_28 (Activation)      (None, 17, 128)      0           batch_normalization_28[0][0]     \n",
      "__________________________________________________________________________________________________\n",
      "add_9 (Add)                     (None, 17, 128)      0           conv1d_34[0][0]                  \n",
      "                                                                 activation_28[0][0]              \n",
      "__________________________________________________________________________________________________\n",
      "conv1d_35 (Conv1D)              (None, 17, 64)       8256        add_9[0][0]                      \n",
      "__________________________________________________________________________________________________\n",
      "batch_normalization_29 (BatchNo (None, 17, 64)       256         conv1d_35[0][0]                  \n",
      "__________________________________________________________________________________________________\n",
      "activation_29 (Activation)      (None, 17, 64)       0           batch_normalization_29[0][0]     \n",
      "__________________________________________________________________________________________________\n",
      "conv1d_36 (Conv1D)              (None, 17, 64)       12352       activation_29[0][0]              \n",
      "__________________________________________________________________________________________________\n",
      "batch_normalization_30 (BatchNo (None, 17, 64)       256         conv1d_36[0][0]                  \n",
      "__________________________________________________________________________________________________\n",
      "activation_30 (Activation)      (None, 17, 64)       0           batch_normalization_30[0][0]     \n",
      "__________________________________________________________________________________________________\n",
      "conv1d_37 (Conv1D)              (None, 17, 128)      8320        activation_30[0][0]              \n",
      "__________________________________________________________________________________________________\n",
      "batch_normalization_31 (BatchNo (None, 17, 128)      512         conv1d_37[0][0]                  \n",
      "__________________________________________________________________________________________________\n",
      "activation_31 (Activation)      (None, 17, 128)      0           batch_normalization_31[0][0]     \n",
      "__________________________________________________________________________________________________\n",
      "add_10 (Add)                    (None, 17, 128)      0           add_9[0][0]                      \n",
      "                                                                 activation_31[0][0]              \n",
      "__________________________________________________________________________________________________\n",
      "conv1d_38 (Conv1D)              (None, 9, 128)       16512       add_10[0][0]                     \n",
      "__________________________________________________________________________________________________\n",
      "batch_normalization_32 (BatchNo (None, 9, 128)       512         conv1d_38[0][0]                  \n",
      "__________________________________________________________________________________________________\n",
      "activation_32 (Activation)      (None, 9, 128)       0           batch_normalization_32[0][0]     \n",
      "__________________________________________________________________________________________________\n",
      "conv1d_39 (Conv1D)              (None, 9, 128)       49280       activation_32[0][0]              \n",
      "__________________________________________________________________________________________________\n",
      "batch_normalization_33 (BatchNo (None, 9, 128)       512         conv1d_39[0][0]                  \n",
      "__________________________________________________________________________________________________\n",
      "activation_33 (Activation)      (None, 9, 128)       0           batch_normalization_33[0][0]     \n",
      "__________________________________________________________________________________________________\n",
      "conv1d_40 (Conv1D)              (None, 9, 256)       33024       activation_33[0][0]              \n",
      "__________________________________________________________________________________________________\n",
      "batch_normalization_34 (BatchNo (None, 9, 256)       1024        conv1d_40[0][0]                  \n",
      "__________________________________________________________________________________________________\n",
      "conv1d_41 (Conv1D)              (None, 9, 256)       33024       add_10[0][0]                     \n",
      "__________________________________________________________________________________________________\n",
      "activation_34 (Activation)      (None, 9, 256)       0           batch_normalization_34[0][0]     \n",
      "__________________________________________________________________________________________________\n",
      "add_11 (Add)                    (None, 9, 256)       0           conv1d_41[0][0]                  \n",
      "                                                                 activation_34[0][0]              \n",
      "__________________________________________________________________________________________________\n",
      "conv1d_42 (Conv1D)              (None, 9, 128)       32896       add_11[0][0]                     \n",
      "__________________________________________________________________________________________________\n",
      "batch_normalization_35 (BatchNo (None, 9, 128)       512         conv1d_42[0][0]                  \n",
      "__________________________________________________________________________________________________\n",
      "activation_35 (Activation)      (None, 9, 128)       0           batch_normalization_35[0][0]     \n",
      "__________________________________________________________________________________________________\n",
      "conv1d_43 (Conv1D)              (None, 9, 128)       49280       activation_35[0][0]              \n",
      "__________________________________________________________________________________________________\n",
      "batch_normalization_36 (BatchNo (None, 9, 128)       512         conv1d_43[0][0]                  \n",
      "__________________________________________________________________________________________________\n",
      "activation_36 (Activation)      (None, 9, 128)       0           batch_normalization_36[0][0]     \n",
      "__________________________________________________________________________________________________\n",
      "conv1d_44 (Conv1D)              (None, 9, 256)       33024       activation_36[0][0]              \n",
      "__________________________________________________________________________________________________\n",
      "batch_normalization_37 (BatchNo (None, 9, 256)       1024        conv1d_44[0][0]                  \n",
      "__________________________________________________________________________________________________\n",
      "activation_37 (Activation)      (None, 9, 256)       0           batch_normalization_37[0][0]     \n",
      "__________________________________________________________________________________________________\n",
      "add_12 (Add)                    (None, 9, 256)       0           add_11[0][0]                     \n",
      "                                                                 activation_37[0][0]              \n",
      "__________________________________________________________________________________________________\n",
      "batch_normalization_38 (BatchNo (None, 9, 256)       1024        add_12[0][0]                     \n",
      "__________________________________________________________________________________________________\n",
      "activation_38 (Activation)      (None, 9, 256)       0           batch_normalization_38[0][0]     \n",
      "__________________________________________________________________________________________________\n",
      "average_pooling1d_2 (AveragePoo (None, 3, 256)       0           activation_38[0][0]              \n",
      "__________________________________________________________________________________________________\n",
      "flatten_2 (Flatten)             (None, 768)          0           average_pooling1d_2[0][0]        \n",
      "__________________________________________________________________________________________________\n",
      "dense_2 (Dense)                 (None, 4)            3076        flatten_2[0][0]                  \n",
      "==================================================================================================\n",
      "Total params: 328,260\n",
      "Trainable params: 324,292\n",
      "Non-trainable params: 3,968\n",
      "__________________________________________________________________________________________________\n"
     ]
    }
   ],
   "source": [
    "model.compile(optimizer=adam, loss=custom_mse_mae, metrics=[\"mean_absolute_error\", \"mean_squared_error\"])\n",
    "model.summary()"
   ]
  },
  {
   "cell_type": "code",
   "execution_count": 9,
   "metadata": {},
   "outputs": [
    {
     "data": {
      "text/plain": [
       "(43001, 2)"
      ]
     },
     "execution_count": 9,
     "metadata": {},
     "output_type": "execute_result"
    }
   ],
   "source": [
    "outputs = np.genfromtxt(\"../data/distanced/ANGLES/outputs.txt\")\n",
    "outputs[np.isnan(outputs)] = 0.0\n",
    "# Idea convert to sin/cos to remove angle periodicity\n",
    "outputs.shape"
   ]
  },
  {
   "cell_type": "code",
   "execution_count": 10,
   "metadata": {},
   "outputs": [
    {
     "name": "stdout",
     "output_type": "stream",
     "text": [
      "(43001, 4)\n"
     ]
    }
   ],
   "source": [
    "out = []\n",
    "out.append(np.sin(outputs[:,0]))\n",
    "out.append(np.cos(outputs[:,0]))\n",
    "out.append(np.sin(outputs[:,1]))\n",
    "out.append(np.cos(outputs[:,1]))\n",
    "out = np.array(out).T\n",
    "print(out.shape)"
   ]
  },
  {
   "cell_type": "code",
   "execution_count": 11,
   "metadata": {},
   "outputs": [],
   "source": [
    "def get_ins(path = \"../data/distanced/ANGLES/input_aa.txt\", pssm=None):\n",
    "    # handle both files\n",
    "    if pssm: path = \"../data/distanced/ANGLES/input_pssm.txt\"\n",
    "    # Opn file and read text\n",
    "    with open(path, \"r\") as f:\n",
    "        lines = f.read().split('\\n')\n",
    "    # Extract numeric data from text\n",
    "    pre_ins = []\n",
    "    for i,line in enumerate(lines):\n",
    "        # Read each protein separately\n",
    "        if line == \"NEW\":\n",
    "            prot = []\n",
    "            raw = lines[i+1:i+(17*2+1)]\n",
    "            # Read each line as a vector + ensemble one-hot vectors matrix\n",
    "            for r in raw:\n",
    "                prot.append(np.array([float(x) for x in r.split(\" \") if x != \"\"]))\n",
    "            # Add prot to dataset\n",
    "            pre_ins.append(np.array(prot))  \n",
    "    \n",
    "    return np.array(pre_ins)"
   ]
  },
  {
   "cell_type": "code",
   "execution_count": 12,
   "metadata": {},
   "outputs": [
    {
     "name": "stdout",
     "output_type": "stream",
     "text": [
      "(43001, 34, 21) (43001, 34, 21)\n"
     ]
    },
    {
     "data": {
      "text/plain": [
       "(43001, 34, 41)"
      ]
     },
     "execution_count": 12,
     "metadata": {},
     "output_type": "execute_result"
    }
   ],
   "source": [
    "aas = get_ins()\n",
    "pssms = get_ins(pssm=True)\n",
    "# Check shapes match\n",
    "print(aas.shape, pssms.shape)\n",
    "# inputs = np.concatenate((aas[:, :, :20], pssms[:, :, :20]), axis=2)\n",
    "inputs = np.concatenate((aas, pssms[:, :, :20]), axis=2)\n",
    "# inputs = np.concatenate((aas.reshape((*aas.shape,1)), pssms.reshape((*pssms.shape,1))), axis=3)\n",
    "inputs.shape"
   ]
  },
  {
   "cell_type": "code",
   "execution_count": 15,
   "metadata": {},
   "outputs": [],
   "source": [
    "# print(np.sin(-1.61735004), np.cos(-1.61735004), np.arccos(1.61))\n",
    "import matplotlib.pyplot as plt"
   ]
  },
  {
   "cell_type": "code",
   "execution_count": 16,
   "metadata": {},
   "outputs": [
    {
     "data": {
      "image/png": "[encoded data removed]",
      "text/plain": [
       "<Figure size 432x288 with 1 Axes>"
      ]
     },
     "metadata": {
      "needs_background": "light"
     },
     "output_type": "display_data"
    }
   ],
   "source": [
    "plt.scatter(outputs[:1000,0], outputs[:1000,1], marker=\".\")\n",
    "plt.xlim(-np.pi, np.pi)\n",
    "plt.ylim(-np.pi, np.pi)\n",
    "plt.show()"
   ]
  },
  {
   "cell_type": "code",
   "execution_count": 17,
   "metadata": {},
   "outputs": [],
   "source": [
    "# Preprocess outputs (mean/std)\n",
    "# mean = np.mean(inputs,axis=(0,1,2))\n",
    "# std = np.std(inputs,axis=(0,1,2))\n",
    "# print(\"Mean: \", mean)\n",
    "# print(\"Std: \", std)\n",
    "# pre_inputs = (inputs-mean)/(std+1e-7)"
   ]
  },
  {
   "cell_type": "code",
   "execution_count": 23,
   "metadata": {},
   "outputs": [
    {
     "name": "stdout",
     "output_type": "stream",
     "text": [
      "Train on 38700 samples, validate on 4301 samples\n",
      "Epoch 1/5\n",
      "38700/38700 [==============================] - 73s 2ms/step - loss: 1.0670 - mean_absolute_error: 0.4539 - mean_squared_error: 0.3492 - val_loss: 0.9222 - val_mean_absolute_error: 0.4465 - val_mean_squared_error: 0.3240\n",
      "Epoch 2/5\n",
      "38700/38700 [==============================] - 67s 2ms/step - loss: 0.8250 - mean_absolute_error: 0.4099 - mean_squared_error: 0.2991 - val_loss: 0.8179 - val_mean_absolute_error: 0.4155 - val_mean_squared_error: 0.3103\n",
      "Epoch 3/5\n",
      "38700/38700 [==============================] - 67s 2ms/step - loss: 0.7507 - mean_absolute_error: 0.3908 - mean_squared_error: 0.2800 - val_loss: 0.7755 - val_mean_absolute_error: 0.4069 - val_mean_squared_error: 0.2987\n",
      "Epoch 4/5\n",
      "38700/38700 [==============================] - 67s 2ms/step - loss: 0.7155 - mean_absolute_error: 0.3805 - mean_squared_error: 0.2708 - val_loss: 0.7692 - val_mean_absolute_error: 0.4134 - val_mean_squared_error: 0.2966\n",
      "Epoch 5/5\n",
      "38700/38700 [==============================] - 68s 2ms/step - loss: 0.6942 - mean_absolute_error: 0.3737 - mean_squared_error: 0.2644 - val_loss: 0.7384 - val_mean_absolute_error: 0.3991 - val_mean_squared_error: 0.2864\n"
     ]
    }
   ],
   "source": [
    "# Test 1 with 34*41 columns (pre-act structure)\n",
    "his = model.fit(inputs, out, epochs=5, batch_size=16, verbose=1, shuffle=True, validation_split=0.1)"
   ]
  },
  {
   "cell_type": "code",
   "execution_count": 26,
   "metadata": {},
   "outputs": [
    {
     "name": "stdout",
     "output_type": "stream",
     "text": [
      "Train on 38700 samples, validate on 4301 samples\n",
      "Epoch 1/5\n",
      "38700/38700 [==============================] - 73s 2ms/step - loss: 1.0124 - mean_absolute_error: 0.4494 - mean_squared_error: 0.3435 - val_loss: 1.0109 - val_mean_absolute_error: 0.4762 - val_mean_squared_error: 0.4162\n",
      "Epoch 2/5\n",
      "38700/38700 [==============================] - 67s 2ms/step - loss: 0.7932 - mean_absolute_error: 0.4056 - mean_squared_error: 0.2941 - val_loss: 0.7772 - val_mean_absolute_error: 0.4095 - val_mean_squared_error: 0.2919\n",
      "Epoch 3/5\n",
      "38700/38700 [==============================] - 67s 2ms/step - loss: 0.7324 - mean_absolute_error: 0.3879 - mean_squared_error: 0.2769 - val_loss: 0.7751 - val_mean_absolute_error: 0.4078 - val_mean_squared_error: 0.3063\n",
      "Epoch 4/5\n",
      "38700/38700 [==============================] - 67s 2ms/step - loss: 0.7024 - mean_absolute_error: 0.3780 - mean_squared_error: 0.2676 - val_loss: 0.7855 - val_mean_absolute_error: 0.4106 - val_mean_squared_error: 0.3215\n",
      "Epoch 5/5\n",
      "38700/38700 [==============================] - 67s 2ms/step - loss: 0.6850 - mean_absolute_error: 0.3715 - mean_squared_error: 0.2621 - val_loss: 0.7363 - val_mean_absolute_error: 0.3999 - val_mean_squared_error: 0.2871\n"
     ]
    }
   ],
   "source": [
    "# Test 1 with 34*41 columns (van der waals radius)\n",
    "his = model.fit(inputs, out, epochs=5, batch_size=16, verbose=1, shuffle=True, validation_split=0.1)"
   ]
  },
  {
   "cell_type": "code",
   "execution_count": 23,
   "metadata": {},
   "outputs": [
    {
     "name": "stdout",
     "output_type": "stream",
     "text": [
      "Train on 38700 samples, validate on 4301 samples\n",
      "Epoch 1/5\n",
      "38700/38700 [==============================] - 74s 2ms/step - loss: 1.0404 - mean_absolute_error: 0.4501 - mean_squared_error: 0.3464 - val_loss: 0.9905 - val_mean_absolute_error: 0.4696 - val_mean_squared_error: 0.3864\n",
      "Epoch 2/5\n",
      "38700/38700 [==============================] - 69s 2ms/step - loss: 0.8102 - mean_absolute_error: 0.4081 - mean_squared_error: 0.2982 - val_loss: 0.8063 - val_mean_absolute_error: 0.4239 - val_mean_squared_error: 0.2992\n",
      "Epoch 3/5\n",
      "38700/38700 [==============================] - 69s 2ms/step - loss: 0.7433 - mean_absolute_error: 0.3907 - mean_squared_error: 0.2798 - val_loss: 0.7620 - val_mean_absolute_error: 0.4052 - val_mean_squared_error: 0.2924\n",
      "Epoch 4/5\n",
      "38700/38700 [==============================] - 68s 2ms/step - loss: 0.7125 - mean_absolute_error: 0.3811 - mean_squared_error: 0.2721 - val_loss: 0.7565 - val_mean_absolute_error: 0.4082 - val_mean_squared_error: 0.2938\n",
      "Epoch 5/5\n",
      "38700/38700 [==============================] - 69s 2ms/step - loss: 0.6939 - mean_absolute_error: 0.3751 - mean_squared_error: 0.2665 - val_loss: 0.7415 - val_mean_absolute_error: 0.4026 - val_mean_squared_error: 0.2893\n"
     ]
    }
   ],
   "source": [
    "# Test 1 with 34*40 columns\n",
    "his = model.fit(inputs, out, epochs=5, batch_size=16, verbose=1, shuffle=True, validation_split=0.1)"
   ]
  },
  {
   "cell_type": "code",
   "execution_count": 24,
   "metadata": {},
   "outputs": [],
   "source": [
    "n = 10000\n",
    "preds = model.predict(inputs)"
   ]
  },
  {
   "cell_type": "code",
   "execution_count": 25,
   "metadata": {},
   "outputs": [
    {
     "name": "stdout",
     "output_type": "stream",
     "text": [
      "(43001, 2)\n"
     ]
    }
   ],
   "source": [
    "# Get angle values from sin and cos\n",
    "refactor = []\n",
    "for pred in preds:\n",
    "    angles = []\n",
    "    phi_sin, phi_cos, psi_sin, psi_cos = pred[0], pred[1], pred[2], pred[3]\n",
    "    # PHI - First and fourth quadrant\n",
    "    if (phi_sin>=0 and phi_cos>=0) or (phi_cos>=0 and phi_sin<=0):\n",
    "        angles.append(np.arctan(phi_sin/phi_cos))\n",
    "    # 2nd and 3rd quadrant\n",
    "    else:\n",
    "        angles.append(np.pi + np.arctan(phi_sin/phi_cos))\n",
    "        \n",
    "    # PSI - First and fourth quadrant\n",
    "    if (psi_sin>=0 and psi_cos>=0) or (psi_cos>=0 and psi_sin<=0):\n",
    "        angles.append(np.arctan(psi_sin/psi_cos))\n",
    "    # 2nd and 3rd quadrant\n",
    "    else:\n",
    "        angles.append(np.pi + np.arctan(psi_sin/psi_cos))\n",
    "    \n",
    "    refactor.append(angles)\n",
    "    \n",
    "refactor = np.array(refactor)\n",
    "print(refactor.shape)"
   ]
  },
  {
   "cell_type": "code",
   "execution_count": 26,
   "metadata": {},
   "outputs": [
    {
     "name": "stdout",
     "output_type": "stream",
     "text": [
      "PREDS:  [[-0.88067687  0.12265779  0.03935923  0.22878006]\n",
      " [-0.92074037  0.27919453 -0.09113257  0.45687264]\n",
      " [-0.8112581   0.13371193 -0.04036168  0.33211333]\n",
      " [-0.93063664  0.1092518   0.1932747   0.1556783 ]\n",
      " [-0.78976667 -0.05227512  0.30784813 -0.10911738]\n",
      " [-0.83434737 -0.04871911  0.20036834 -0.16656926]\n",
      " [-0.86915624  0.27707267 -0.22748195  0.6596681 ]\n",
      " [-0.84250736  0.10340905  0.1329841   0.32837895]\n",
      " [-0.83278775 -0.07911474  0.35720548 -0.09560899]\n",
      " [-0.83226275 -0.2811734   0.5461851  -0.463168  ]]\n",
      "OUT:  [[-0.89435741  0.44735313 -0.57443578  0.81854966]\n",
      " [-0.87376279  0.48635232 -0.622015    0.78300533]\n",
      " [-0.90627582  0.42268681 -0.77934285  0.62659774]\n",
      " [-0.95801371  0.2867224  -0.72077014  0.69317415]\n",
      " [-0.93497954  0.35470165 -0.43613418  0.89988165]\n",
      " [-0.960727    0.27749528 -0.2523779   0.96762875]\n",
      " [-0.96919641 -0.24628908  0.87398424 -0.48595426]\n",
      " [-0.99699843 -0.07742175 -0.48280369  0.87572861]\n",
      " [-0.85155377 -0.52426727  0.08061925  0.99674497]\n",
      " [-0.77707837 -0.62940385  0.4775152  -0.87862349]]\n",
      "----------------------------------------\n",
      "REFACTOR:  [[-1.2232548  -0.57308316]\n",
      " [-1.15500212 -0.53969491]\n",
      " [-1.09658074 -0.50411361]\n",
      " [-1.11338568 -0.52919102]\n",
      " [-1.26431286 -0.19007537]\n",
      " [-1.18901503 -0.46217397]\n",
      " [-1.19866455 -0.41288337]\n",
      " [-1.21497715 -0.52874601]\n",
      " [-1.18892336 -0.50574183]\n",
      " [-1.07884312 -0.68965012]]\n",
      "OUTPUTS:  [[-1.2444379  -0.58042577]\n",
      " [-1.25021751 -0.66390819]\n",
      " [-1.05070228 -0.92893957]\n",
      " [-0.96688468 -0.78487058]\n",
      " [-1.08941559 -0.65024093]\n",
      " [-1.13797692 -0.7300337 ]\n",
      " [-1.09336306 -0.79161228]\n",
      " [-1.04327142 -0.66111024]\n",
      " [-1.10802421 -0.74689457]\n",
      " [-1.05710466 -0.76358765]]\n"
     ]
    }
   ],
   "source": [
    "print(\"PREDS: \", preds[40:50])\n",
    "print(\"OUT: \", out[40:50])\n",
    "print(\"----------------------------------------\")\n",
    "print(\"REFACTOR: \", refactor[:10])\n",
    "print(\"OUTPUTS: \", outputs[:10])"
   ]
  },
  {
   "cell_type": "code",
   "execution_count": 27,
   "metadata": {},
   "outputs": [],
   "source": [
    "refactor[refactor>np.pi] = np.pi\n",
    "refactor[refactor<-np.pi] = -np.pi"
   ]
  },
  {
   "cell_type": "code",
   "execution_count": 31,
   "metadata": {},
   "outputs": [
    {
     "data": {
      "image/png": "[encoded data removed]",
      "text/plain": [
       "<Figure size 432x288 with 1 Axes>"
      ]
     },
     "metadata": {
      "needs_background": "light"
     },
     "output_type": "display_data"
    }
   ],
   "source": [
    "plt.scatter(outputs[:,0], outputs[:,1], marker=\".\")\n",
    "plt.scatter(refactor[:,0], refactor[:,1], marker=\".\")\n",
    "plt.legend([\"Predictions distribution\", \"Truth distribution\"], loc=\"lower right\")\n",
    "# plt.xlim(-np.pi, np.pi)\n",
    "# plt.ylim(-np.pi, np.pi)\n",
    "plt.show()"
   ]
  },
  {
   "cell_type": "code",
   "execution_count": 29,
   "metadata": {},
   "outputs": [
    {
     "name": "stdout",
     "output_type": "stream",
     "text": [
      "Correlation coefficients - SOTA is Phi: 0.65 | Psi: 0.7\n",
      "Cos Phi:  0.5434985429784274\n",
      "Cos Psi:  0.5770063406475973\n"
     ]
    }
   ],
   "source": [
    "# Correlattion coefficients are: - model.save(\"resnet_20_no_norm_1d_5epochs_preact_vdw_radius.h5\")\n",
    "# Calculate Perason coefficient btwn cosines of both angles (true values and predicted ones)\n",
    "cos_phi = np.corrcoef(preds[:, 1], out[:, 1])\n",
    "cos_psi = np.corrcoef(preds[:, 3], out[:, 3])\n",
    "\n",
    "cos_phi = np.corrcoef(np.cos(refactor[:,0]), np.cos(outputs[:,0]))\n",
    "cos_phi = np.corrcoef(np.cos(refactor[:,1]), np.cos(outputs[:,1]))\n",
    "\n",
    "print(\"Correlation coefficients - SOTA is Phi: 0.65 | Psi: 0.7\")\n",
    "print(\"Cos Phi: \", cos_phi[0,1])\n",
    "print(\"Cos Psi: \", cos_psi[0,1])"
   ]
  },
  {
   "cell_type": "code",
   "execution_count": 30,
   "metadata": {},
   "outputs": [],
   "source": [
    "model.save(\"resnet_20_no_norm_1d_5epochs_preact_vdw_radius.h5\")"
   ]
  },
  {
   "cell_type": "code",
   "execution_count": null,
   "metadata": {},
   "outputs": [],
   "source": [
    "# Done!"
   ]
  }
 ],
 "metadata": {
  "kernelspec": {
   "display_name": "Python 3",
   "language": "python",
   "name": "python3"
  },
  "language_info": {
   "codemirror_mode": {
    "name": "ipython",
    "version": 3
   },
   "file_extension": ".py",
   "mimetype": "text/x-python",
   "name": "python",
   "nbconvert_exporter": "python",
   "pygments_lexer": "ipython3",
   "version": "3.6.7"
  }
 },
 "nbformat": 4,
 "nbformat_minor": 2
}
