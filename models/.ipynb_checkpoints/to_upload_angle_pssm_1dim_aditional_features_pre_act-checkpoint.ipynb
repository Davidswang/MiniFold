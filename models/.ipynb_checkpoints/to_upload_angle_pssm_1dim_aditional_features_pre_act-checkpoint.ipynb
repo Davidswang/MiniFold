{
 "cells": [
  {
   "cell_type": "code",
   "execution_count": 1,
   "metadata": {},
   "outputs": [
    {
     "name": "stderr",
     "output_type": "stream",
     "text": [
      "Using TensorFlow backend.\n"
     ]
    }
   ],
   "source": [
    "# Import libraries\n",
    "import numpy as np\n",
    "import matplotlib.pyplot as plt\n",
    "\n",
    "# Import libraries\n",
    "import keras\n",
    "import keras.backend as K\n",
    "from keras.models import Model\n",
    "# Optimizer and regularization\n",
    "from keras.regularizers import l2\n",
    "from keras.losses import mean_squared_error, mean_absolute_error\n",
    "# Keras layers\n",
    "from keras.layers.convolutional import Conv1D\n",
    "from keras.layers import Dense, Dropout, Flatten, Input, BatchNormalization, Activation\n",
    "from keras.layers.pooling import MaxPooling1D, AveragePooling1D, MaxPooling2D, AveragePooling2D\n",
    "\n",
    "\n",
    "# Model architecture\n",
    "import sys\n",
    "from resnet_1d_angles import *"
   ]
  },
  {
   "cell_type": "markdown",
   "metadata": {},
   "source": [
    "## Loading the Dataset"
   ]
  },
  {
   "cell_type": "code",
   "execution_count": 4,
   "metadata": {
    "scrolled": true
   },
   "outputs": [
    {
     "data": {
      "text/plain": [
       "(43001, 2)"
      ]
     },
     "execution_count": 4,
     "metadata": {},
     "output_type": "execute_result"
    }
   ],
   "source": [
    "# Load outputs/labels from file\n",
    "outputs = np.genfromtxt(\"../data/angles/outputs.txt\")\n",
    "outputs[np.isnan(outputs)] = 0.0\n",
    "outputs.shape"
   ]
  },
  {
   "cell_type": "code",
   "execution_count": 5,
   "metadata": {},
   "outputs": [
    {
     "name": "stdout",
     "output_type": "stream",
     "text": [
      "(43001, 4)\n"
     ]
    }
   ],
   "source": [
    "# Convert angles to sin/cos to remove angle periodicity\n",
    "out = []\n",
    "out.append(np.sin(outputs[:,0]))\n",
    "out.append(np.cos(outputs[:,0]))\n",
    "out.append(np.sin(outputs[:,1]))\n",
    "out.append(np.cos(outputs[:,1]))\n",
    "out = np.array(out).T\n",
    "print(out.shape)"
   ]
  },
  {
   "cell_type": "code",
   "execution_count": 6,
   "metadata": {},
   "outputs": [],
   "source": [
    "def get_ins(path = \"../data/angles/input_aa.txt\", pssm=None):\n",
    "    \"\"\" Gets inputs from both AminoAcids (input_aa) and PSSM (input_pssm)\"\"\"\n",
    "    # handles both files\n",
    "    if pssm: path = \"../data/angles/input_pssm.txt\"\n",
    "    # Opn file and read text\n",
    "    with open(path, \"r\") as f:\n",
    "        lines = f.read().split('\\n')\n",
    "    # Extract numeric data from text\n",
    "    pre_ins = []\n",
    "    for i,line in enumerate(lines):\n",
    "        # Read each protein separately\n",
    "        if line == \"NEW\":\n",
    "            prot = []\n",
    "            raw = lines[i+1:i+(17*2+1)]\n",
    "            # Read each line as a vector + ensemble one-hot vectors as a matrix\n",
    "            for r in raw:\n",
    "                prot.append(np.array([float(x) for x in r.split(\" \") if x != \"\"]))\n",
    "            # Add prot to dataset\n",
    "            pre_ins.append(np.array(prot))  \n",
    "    \n",
    "    return np.array(pre_ins)"
   ]
  },
  {
   "cell_type": "code",
   "execution_count": 7,
   "metadata": {},
   "outputs": [
    {
     "name": "stdout",
     "output_type": "stream",
     "text": [
      "(43001, 34, 21) (43001, 34, 21)\n"
     ]
    },
    {
     "data": {
      "text/plain": [
       "(43001, 34, 41)"
      ]
     },
     "execution_count": 7,
     "metadata": {},
     "output_type": "execute_result"
    }
   ],
   "source": [
    "# Get inputs data\n",
    "aas = get_ins()\n",
    "pssms = get_ins(pssm=True)\n",
    "# Check that shapes match\n",
    "print(aas.shape, pssms.shape)\n",
    "# Concatenate input features\n",
    "inputs = np.concatenate((aas, pssms[:, :, :20]), axis=2)\n",
    "inputs.shape"
   ]
  },
  {
   "cell_type": "code",
   "execution_count": 8,
   "metadata": {},
   "outputs": [
    {
     "data": {
      "image/png": "[encoded data removed]",
      "text/plain": [
       "<Figure size 432x288 with 1 Axes>"
      ]
     },
     "metadata": {
      "needs_background": "light"
     },
     "output_type": "display_data"
    }
   ],
   "source": [
    "# Plot some angle sto make sure they follow a Ramachandran plot distribution\n",
    "plt.scatter(outputs[:1000,0], outputs[:1000,1], marker=\".\")\n",
    "plt.xlim(-np.pi, np.pi)\n",
    "plt.ylim(-np.pi, np.pi)\n",
    "plt.show()"
   ]
  },
  {
   "cell_type": "code",
   "execution_count": 9,
   "metadata": {},
   "outputs": [
    {
     "data": {
      "text/plain": [
       "\" WE DON'T PREPROCESS INPUTS SINCE THEY'RE IN 0-1 RANGE\""
      ]
     },
     "execution_count": 9,
     "metadata": {},
     "output_type": "execute_result"
    }
   ],
   "source": [
    "\"\"\" WE DON'T PREPROCESS INPUTS SINCE THEY'RE IN 0-1 RANGE\"\"\"\n",
    "# Preprocess outputs (mean/std)\n",
    "# mean = np.mean(inputs,axis=(0,1,2))\n",
    "# std = np.std(inputs,axis=(0,1,2))\n",
    "# pre_inputs = (inputs-mean)/(std+1e-7)\n",
    "\n",
    "# print(\"Mean: \", mean)\n",
    "# print(\"Std: \", std)"
   ]
  },
  {
   "cell_type": "markdown",
   "metadata": {},
   "source": [
    "## Loading the model"
   ]
  },
  {
   "cell_type": "code",
   "execution_count": 2,
   "metadata": {},
   "outputs": [],
   "source": [
    "# Using AMSGrad optimizer for speed \n",
    "kernel_size, filters = 3, 16\n",
    "adam = keras.optimizers.Adam(amsgrad=True)"
   ]
  },
  {
   "cell_type": "code",
   "execution_count": 3,
   "metadata": {},
   "outputs": [
    {
     "name": "stdout",
     "output_type": "stream",
     "text": [
      "__________________________________________________________________________________________________\n",
      "Layer (type)                    Output Shape         Param #     Connected to                     \n",
      "==================================================================================================\n",
      "input_1 (InputLayer)            (None, 34, 41)       0                                            \n",
      "__________________________________________________________________________________________________\n",
      "conv1d_1 (Conv1D)               (None, 34, 16)       1984        input_1[0][0]                    \n",
      "__________________________________________________________________________________________________\n",
      "batch_normalization_1 (BatchNor (None, 34, 16)       64          conv1d_1[0][0]                   \n",
      "__________________________________________________________________________________________________\n",
      "activation_1 (Activation)       (None, 34, 16)       0           batch_normalization_1[0][0]      \n",
      "__________________________________________________________________________________________________\n",
      "conv1d_2 (Conv1D)               (None, 34, 16)       272         activation_1[0][0]               \n",
      "__________________________________________________________________________________________________\n",
      "conv1d_3 (Conv1D)               (None, 34, 16)       784         conv1d_2[0][0]                   \n",
      "__________________________________________________________________________________________________\n",
      "batch_normalization_2 (BatchNor (None, 34, 16)       64          conv1d_3[0][0]                   \n",
      "__________________________________________________________________________________________________\n",
      "activation_2 (Activation)       (None, 34, 16)       0           batch_normalization_2[0][0]      \n",
      "__________________________________________________________________________________________________\n",
      "conv1d_4 (Conv1D)               (None, 34, 64)       1088        activation_2[0][0]               \n",
      "__________________________________________________________________________________________________\n",
      "batch_normalization_3 (BatchNor (None, 34, 64)       256         conv1d_4[0][0]                   \n",
      "__________________________________________________________________________________________________\n",
      "conv1d_5 (Conv1D)               (None, 34, 64)       1088        activation_1[0][0]               \n",
      "__________________________________________________________________________________________________\n",
      "activation_3 (Activation)       (None, 34, 64)       0           batch_normalization_3[0][0]      \n",
      "__________________________________________________________________________________________________\n",
      "add_1 (Add)                     (None, 34, 64)       0           conv1d_5[0][0]                   \n",
      "                                                                 activation_3[0][0]               \n",
      "__________________________________________________________________________________________________\n",
      "conv1d_6 (Conv1D)               (None, 34, 16)       1040        add_1[0][0]                      \n",
      "__________________________________________________________________________________________________\n",
      "batch_normalization_4 (BatchNor (None, 34, 16)       64          conv1d_6[0][0]                   \n",
      "__________________________________________________________________________________________________\n",
      "activation_4 (Activation)       (None, 34, 16)       0           batch_normalization_4[0][0]      \n",
      "__________________________________________________________________________________________________\n",
      "conv1d_7 (Conv1D)               (None, 34, 16)       784         activation_4[0][0]               \n",
      "__________________________________________________________________________________________________\n",
      "batch_normalization_5 (BatchNor (None, 34, 16)       64          conv1d_7[0][0]                   \n",
      "__________________________________________________________________________________________________\n",
      "activation_5 (Activation)       (None, 34, 16)       0           batch_normalization_5[0][0]      \n",
      "__________________________________________________________________________________________________\n",
      "conv1d_8 (Conv1D)               (None, 34, 64)       1088        activation_5[0][0]               \n",
      "__________________________________________________________________________________________________\n",
      "batch_normalization_6 (BatchNor (None, 34, 64)       256         conv1d_8[0][0]                   \n",
      "__________________________________________________________________________________________________\n",
      "activation_6 (Activation)       (None, 34, 64)       0           batch_normalization_6[0][0]      \n",
      "__________________________________________________________________________________________________\n",
      "add_2 (Add)                     (None, 34, 64)       0           add_1[0][0]                      \n",
      "                                                                 activation_6[0][0]               \n",
      "__________________________________________________________________________________________________\n",
      "conv1d_9 (Conv1D)               (None, 17, 64)       4160        add_2[0][0]                      \n",
      "__________________________________________________________________________________________________\n",
      "batch_normalization_7 (BatchNor (None, 17, 64)       256         conv1d_9[0][0]                   \n",
      "__________________________________________________________________________________________________\n",
      "activation_7 (Activation)       (None, 17, 64)       0           batch_normalization_7[0][0]      \n",
      "__________________________________________________________________________________________________\n",
      "conv1d_10 (Conv1D)              (None, 17, 64)       12352       activation_7[0][0]               \n",
      "__________________________________________________________________________________________________\n",
      "batch_normalization_8 (BatchNor (None, 17, 64)       256         conv1d_10[0][0]                  \n",
      "__________________________________________________________________________________________________\n",
      "activation_8 (Activation)       (None, 17, 64)       0           batch_normalization_8[0][0]      \n",
      "__________________________________________________________________________________________________\n",
      "conv1d_11 (Conv1D)              (None, 17, 128)      8320        activation_8[0][0]               \n",
      "__________________________________________________________________________________________________\n",
      "batch_normalization_9 (BatchNor (None, 17, 128)      512         conv1d_11[0][0]                  \n",
      "__________________________________________________________________________________________________\n",
      "conv1d_12 (Conv1D)              (None, 17, 128)      8320        add_2[0][0]                      \n",
      "__________________________________________________________________________________________________\n",
      "activation_9 (Activation)       (None, 17, 128)      0           batch_normalization_9[0][0]      \n",
      "__________________________________________________________________________________________________\n",
      "add_3 (Add)                     (None, 17, 128)      0           conv1d_12[0][0]                  \n",
      "                                                                 activation_9[0][0]               \n",
      "__________________________________________________________________________________________________\n",
      "conv1d_13 (Conv1D)              (None, 17, 64)       8256        add_3[0][0]                      \n",
      "__________________________________________________________________________________________________\n",
      "batch_normalization_10 (BatchNo (None, 17, 64)       256         conv1d_13[0][0]                  \n",
      "__________________________________________________________________________________________________\n",
      "activation_10 (Activation)      (None, 17, 64)       0           batch_normalization_10[0][0]     \n",
      "__________________________________________________________________________________________________\n",
      "conv1d_14 (Conv1D)              (None, 17, 64)       12352       activation_10[0][0]              \n",
      "__________________________________________________________________________________________________\n",
      "batch_normalization_11 (BatchNo (None, 17, 64)       256         conv1d_14[0][0]                  \n",
      "__________________________________________________________________________________________________\n",
      "activation_11 (Activation)      (None, 17, 64)       0           batch_normalization_11[0][0]     \n",
      "__________________________________________________________________________________________________\n",
      "conv1d_15 (Conv1D)              (None, 17, 128)      8320        activation_11[0][0]              \n",
      "__________________________________________________________________________________________________\n",
      "batch_normalization_12 (BatchNo (None, 17, 128)      512         conv1d_15[0][0]                  \n",
      "__________________________________________________________________________________________________\n",
      "activation_12 (Activation)      (None, 17, 128)      0           batch_normalization_12[0][0]     \n",
      "__________________________________________________________________________________________________\n",
      "add_4 (Add)                     (None, 17, 128)      0           add_3[0][0]                      \n",
      "                                                                 activation_12[0][0]              \n",
      "__________________________________________________________________________________________________\n",
      "conv1d_16 (Conv1D)              (None, 9, 128)       16512       add_4[0][0]                      \n",
      "__________________________________________________________________________________________________\n",
      "batch_normalization_13 (BatchNo (None, 9, 128)       512         conv1d_16[0][0]                  \n",
      "__________________________________________________________________________________________________\n",
      "activation_13 (Activation)      (None, 9, 128)       0           batch_normalization_13[0][0]     \n",
      "__________________________________________________________________________________________________\n",
      "conv1d_17 (Conv1D)              (None, 9, 128)       49280       activation_13[0][0]              \n",
      "__________________________________________________________________________________________________\n",
      "batch_normalization_14 (BatchNo (None, 9, 128)       512         conv1d_17[0][0]                  \n",
      "__________________________________________________________________________________________________\n",
      "activation_14 (Activation)      (None, 9, 128)       0           batch_normalization_14[0][0]     \n",
      "__________________________________________________________________________________________________\n",
      "conv1d_18 (Conv1D)              (None, 9, 256)       33024       activation_14[0][0]              \n",
      "__________________________________________________________________________________________________\n",
      "batch_normalization_15 (BatchNo (None, 9, 256)       1024        conv1d_18[0][0]                  \n",
      "__________________________________________________________________________________________________\n",
      "conv1d_19 (Conv1D)              (None, 9, 256)       33024       add_4[0][0]                      \n",
      "__________________________________________________________________________________________________\n",
      "activation_15 (Activation)      (None, 9, 256)       0           batch_normalization_15[0][0]     \n",
      "__________________________________________________________________________________________________\n",
      "add_5 (Add)                     (None, 9, 256)       0           conv1d_19[0][0]                  \n",
      "                                                                 activation_15[0][0]              \n",
      "__________________________________________________________________________________________________\n",
      "conv1d_20 (Conv1D)              (None, 9, 128)       32896       add_5[0][0]                      \n",
      "__________________________________________________________________________________________________\n",
      "batch_normalization_16 (BatchNo (None, 9, 128)       512         conv1d_20[0][0]                  \n",
      "__________________________________________________________________________________________________\n",
      "activation_16 (Activation)      (None, 9, 128)       0           batch_normalization_16[0][0]     \n",
      "__________________________________________________________________________________________________\n",
      "conv1d_21 (Conv1D)              (None, 9, 128)       49280       activation_16[0][0]              \n",
      "__________________________________________________________________________________________________\n",
      "batch_normalization_17 (BatchNo (None, 9, 128)       512         conv1d_21[0][0]                  \n",
      "__________________________________________________________________________________________________\n",
      "activation_17 (Activation)      (None, 9, 128)       0           batch_normalization_17[0][0]     \n",
      "__________________________________________________________________________________________________\n",
      "conv1d_22 (Conv1D)              (None, 9, 256)       33024       activation_17[0][0]              \n",
      "__________________________________________________________________________________________________\n",
      "batch_normalization_18 (BatchNo (None, 9, 256)       1024        conv1d_22[0][0]                  \n",
      "__________________________________________________________________________________________________\n",
      "activation_18 (Activation)      (None, 9, 256)       0           batch_normalization_18[0][0]     \n",
      "__________________________________________________________________________________________________\n",
      "add_6 (Add)                     (None, 9, 256)       0           add_5[0][0]                      \n",
      "                                                                 activation_18[0][0]              \n",
      "__________________________________________________________________________________________________\n",
      "batch_normalization_19 (BatchNo (None, 9, 256)       1024        add_6[0][0]                      \n",
      "__________________________________________________________________________________________________\n",
      "activation_19 (Activation)      (None, 9, 256)       0           batch_normalization_19[0][0]     \n",
      "__________________________________________________________________________________________________\n",
      "average_pooling1d_1 (AveragePoo (None, 3, 256)       0           activation_19[0][0]              \n",
      "__________________________________________________________________________________________________\n",
      "flatten_1 (Flatten)             (None, 768)          0           average_pooling1d_1[0][0]        \n",
      "__________________________________________________________________________________________________\n",
      "dense_1 (Dense)                 (None, 4)            3076        flatten_1[0][0]                  \n",
      "==================================================================================================\n",
      "Total params: 328,260\n",
      "Trainable params: 324,292\n",
      "Non-trainable params: 3,968\n",
      "__________________________________________________________________________________________________\n"
     ]
    }
   ],
   "source": [
    "# Using AMSGrad optimizer for speed \n",
    "kernel_size, filters = 3, 16\n",
    "adam = keras.optimizers.Adam(lr=0.001, beta_1=0.9, beta_2=0.999, epsilon=None, decay=0.0, amsgrad=True)\n",
    "# Create model\n",
    "model = resnet_v2(input_shape=(17*2,41), depth=20, num_classes=4, conv_first=True)\n",
    "model.compile(optimizer=adam, loss=custom_mse_mae,\n",
    "              metrics=[\"mean_absolute_error\", \"mean_squared_error\"])\n",
    "model.summary()"
   ]
  },
  {
   "cell_type": "markdown",
   "metadata": {},
   "source": [
    "### Model training"
   ]
  },
  {
   "cell_type": "code",
   "execution_count": 10,
   "metadata": {},
   "outputs": [],
   "source": [
    "# Separate data between training and testing\n",
    "split = 38700\n",
    "x_train, x_test = inputs[:split], inputs[split:]\n",
    "y_train, y_test = out[:split], out[split:]"
   ]
  },
  {
   "cell_type": "code",
   "execution_count": null,
   "metadata": {
    "scrolled": true
   },
   "outputs": [],
   "source": [
    "# his = model.fit(inputs, out, epochs=5, batch_size=16, verbose=1, shuffle=True, validation_split=0.1)"
   ]
  },
  {
   "cell_type": "code",
   "execution_count": 11,
   "metadata": {},
   "outputs": [
    {
     "name": "stdout",
     "output_type": "stream",
     "text": [
      "Train on 38700 samples, validate on 4301 samples\n",
      "Epoch 1/5\n",
      "38700/38700 [==============================] - 74s 2ms/step - loss: 1.1764 - mean_absolute_error: 0.4641 - mean_squared_error: 0.3590 - val_loss: 1.1334 - val_mean_absolute_error: 0.4706 - val_mean_squared_error: 0.3994\n",
      "Epoch 2/5\n",
      "38700/38700 [==============================] - 66s 2ms/step - loss: 0.9392 - mean_absolute_error: 0.4207 - mean_squared_error: 0.3089 - val_loss: 0.9370 - val_mean_absolute_error: 0.4317 - val_mean_squared_error: 0.3372\n",
      "Epoch 3/5\n",
      "38700/38700 [==============================] - 66s 2ms/step - loss: 0.8221 - mean_absolute_error: 0.3955 - mean_squared_error: 0.2831 - val_loss: 0.8474 - val_mean_absolute_error: 0.4180 - val_mean_squared_error: 0.3059\n",
      "Epoch 4/5\n",
      "38700/38700 [==============================] - 66s 2ms/step - loss: 0.7630 - mean_absolute_error: 0.3815 - mean_squared_error: 0.2709 - val_loss: 0.7937 - val_mean_absolute_error: 0.4066 - val_mean_squared_error: 0.2880\n",
      "Epoch 5/5\n",
      "38700/38700 [==============================] - 67s 2ms/step - loss: 0.7271 - mean_absolute_error: 0.3722 - mean_squared_error: 0.2632 - val_loss: 0.7797 - val_mean_absolute_error: 0.4082 - val_mean_squared_error: 0.2865\n"
     ]
    }
   ],
   "source": [
    "# Resnet (pre-act structure) with 34*41 columns as inputs - leaving a subset for validation\n",
    "his = model.fit(x_train, y_train, epochs=5, batch_size=16, verbose=1, shuffle=True,\n",
    "                validation_data=(x_test, y_test))"
   ]
  },
  {
   "cell_type": "markdown",
   "metadata": {},
   "source": [
    "### Making predictions"
   ]
  },
  {
   "cell_type": "code",
   "execution_count": 22,
   "metadata": {},
   "outputs": [],
   "source": [
    "preds = model.predict(x_test)"
   ]
  },
  {
   "cell_type": "code",
   "execution_count": 23,
   "metadata": {},
   "outputs": [
    {
     "name": "stdout",
     "output_type": "stream",
     "text": [
      "(4301, 2)\n"
     ]
    }
   ],
   "source": [
    "# Get angle values from sin and cos\n",
    "refactor = []\n",
    "for pred in preds:\n",
    "    angles = []\n",
    "    phi_sin, phi_cos, psi_sin, psi_cos = pred[0], pred[1], pred[2], pred[3]\n",
    "    # PHI - First and fourth quadrant\n",
    "    if (phi_sin>=0 and phi_cos>=0) or (phi_cos>=0 and phi_sin<=0):\n",
    "        angles.append(np.arctan(phi_sin/phi_cos))\n",
    "    # 2nd and 3rd quadrant\n",
    "    else:\n",
    "        angles.append(np.pi + np.arctan(phi_sin/phi_cos))\n",
    "        \n",
    "    # PSI - First and fourth quadrant\n",
    "    if (psi_sin>=0 and psi_cos>=0) or (psi_cos>=0 and psi_sin<=0):\n",
    "        angles.append(np.arctan(psi_sin/psi_cos))\n",
    "    # 2nd and 3rd quadrant\n",
    "    else:\n",
    "        angles.append(np.pi + np.arctan(psi_sin/psi_cos))\n",
    "    \n",
    "    refactor.append(angles)\n",
    "    \n",
    "refactor = np.array(refactor)\n",
    "print(refactor.shape)"
   ]
  },
  {
   "cell_type": "code",
   "execution_count": 24,
   "metadata": {
    "scrolled": true
   },
   "outputs": [],
   "source": [
    "# Experimental debugging prints to validate the predictions\n",
    "# print(\"PREDS: \", preds[40:50])\n",
    "# print(\"OUT: \", out[40:50])\n",
    "# print(\"----------------------------------------\")\n",
    "# print(\"REFACTOR: \", refactor[:10])\n",
    "# print(\"OUTPUTS: \", outputs[:10])"
   ]
  },
  {
   "cell_type": "code",
   "execution_count": 25,
   "metadata": {},
   "outputs": [],
   "source": [
    "# Set angle range in (-pi, pi)\n",
    "refactor[refactor>np.pi] = np.pi\n",
    "refactor[refactor<-np.pi] = -np.pi"
   ]
  },
  {
   "cell_type": "code",
   "execution_count": 26,
   "metadata": {},
   "outputs": [
    {
     "data": {
      "image/png": "[encoded data removed]",
      "text/plain": [
       "<Figure size 432x288 with 1 Axes>"
      ]
     },
     "metadata": {
      "needs_background": "light"
     },
     "output_type": "display_data"
    }
   ],
   "source": [
    "plt.scatter(outputs[split:,0], outputs[split:,1], marker=\".\")\n",
    "plt.scatter(refactor[:,0], refactor[:,1], marker=\".\")\n",
    "plt.legend([\"Truth distribution\", \"Predictions distribution\"], loc=\"lower right\")\n",
    "plt.xlim(-np.pi, np.pi)\n",
    "plt.ylim(-np.pi, np.pi)\n",
    "plt.xlabel(\"Phi\")\n",
    "plt.ylabel(\"Psi\")\n",
    "plt.show()"
   ]
  },
  {
   "cell_type": "markdown",
   "metadata": {},
   "source": [
    "### Evaluate correlation between predictions and ground truth"
   ]
  },
  {
   "cell_type": "code",
   "execution_count": 27,
   "metadata": {},
   "outputs": [
    {
     "name": "stdout",
     "output_type": "stream",
     "text": [
      "Correlation coefficients - SOTA is Phi: 0.65 | Psi: 0.7\n",
      "Cos Phi:  0.38018721662043725\n",
      "Cos Psi:  0.4501908862112098\n"
     ]
    }
   ],
   "source": [
    "# Calculate Perason coefficient btwn cosines of both angles (true values and predicted ones)\n",
    "cos_phi = np.corrcoef(np.cos(refactor[:,0]), np.cos(outputs[split:,0]))\n",
    "cos_psi = np.corrcoef(np.cos(refactor[:,1]), np.cos(outputs[split:,1]))\n",
    "\n",
    "print(\"Correlation coefficients - SOTA is Phi: 0.65 | Psi: 0.7\")\n",
    "print(\"Cos Phi: \", cos_phi[0,1])\n",
    "print(\"Cos Psi: \", cos_psi[0,1])"
   ]
  },
  {
   "cell_type": "code",
   "execution_count": 30,
   "metadata": {},
   "outputs": [],
   "source": [
    "model.save(\"resnet_1d_angles.h5\")"
   ]
  },
  {
   "cell_type": "markdown",
   "metadata": {},
   "source": [
    "# Done!\n",
    "\n",
    "## Loading later"
   ]
  },
  {
   "cell_type": "code",
   "execution_count": 31,
   "metadata": {},
   "outputs": [],
   "source": [
    "# from keras.models import load_model"
   ]
  },
  {
   "cell_type": "code",
   "execution_count": 32,
   "metadata": {},
   "outputs": [],
   "source": [
    "# model = load_model(\"resnet_1d_angles.h5\", custom_objects={'custom_mse_mae': custom_mse_mae})"
   ]
  }
 ],
 "metadata": {
  "kernelspec": {
   "display_name": "Python 3",
   "language": "python",
   "name": "python3"
  },
  "language_info": {
   "codemirror_mode": {
    "name": "ipython",
    "version": 3
   },
   "file_extension": ".py",
   "mimetype": "text/x-python",
   "name": "python",
   "nbconvert_exporter": "python",
   "pygments_lexer": "ipython3",
   "version": "3.6.7"
  }
 },
 "nbformat": 4,
 "nbformat_minor": 2
}
