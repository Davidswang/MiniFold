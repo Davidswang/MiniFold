{
 "cells": [
  {
   "cell_type": "code",
   "execution_count": 2,
   "metadata": {},
   "outputs": [
    {
     "name": "stderr",
     "output_type": "stream",
     "text": [
      "Using TensorFlow backend.\n"
     ]
    }
   ],
   "source": [
    "# Import libraries\n",
    "import numpy as np\n",
    "import matplotlib.pyplot as plt\n",
    "\n",
    "# Import libraries\n",
    "import keras\n",
    "import keras.backend as K\n",
    "from keras.models import Model\n",
    "# Optimizer and regularization\n",
    "from keras.regularizers import l2\n",
    "from keras.losses import mean_squared_error, mean_absolute_error\n",
    "# Keras layers\n",
    "from keras.layers.convolutional import Conv1D\n",
    "from keras.layers import Dense, Dropout, Flatten, Input, BatchNormalization, Activation\n",
    "from keras.layers.pooling import MaxPooling1D, AveragePooling1D, MaxPooling2D, AveragePooling2D\n",
    "\n",
    "\n",
    "# Model architecture\n",
    "import sys\n",
    "from resnet_1d_angles import *"
   ]
  },
  {
   "cell_type": "markdown",
   "metadata": {},
   "source": [
    "## Loading the Dataset"
   ]
  },
  {
   "cell_type": "code",
   "execution_count": 3,
   "metadata": {
    "scrolled": true
   },
   "outputs": [
    {
     "data": {
      "text/plain": [
       "(43001, 2)"
      ]
     },
     "execution_count": 3,
     "metadata": {},
     "output_type": "execute_result"
    }
   ],
   "source": [
    "# Load outputs/labels from file\n",
    "outputs = np.genfromtxt(\"../data/angles/outputs.txt\")\n",
    "outputs[np.isnan(outputs)] = 0.0\n",
    "outputs.shape"
   ]
  },
  {
   "cell_type": "code",
   "execution_count": 4,
   "metadata": {},
   "outputs": [
    {
     "name": "stdout",
     "output_type": "stream",
     "text": [
      "(43001, 4)\n"
     ]
    }
   ],
   "source": [
    "# Convert angles to sin/cos to remove angle periodicity\n",
    "out = []\n",
    "out.append(np.sin(outputs[:,0]))\n",
    "out.append(np.cos(outputs[:,0]))\n",
    "out.append(np.sin(outputs[:,1]))\n",
    "out.append(np.cos(outputs[:,1]))\n",
    "out = np.array(out).T\n",
    "print(out.shape)"
   ]
  },
  {
   "cell_type": "code",
   "execution_count": 5,
   "metadata": {},
   "outputs": [],
   "source": [
    "def get_ins(path = \"../data/angles/input_aa.txt\", pssm=None):\n",
    "    \"\"\" Gets inputs from both AminoAcids (input_aa) and PSSM (input_pssm)\"\"\"\n",
    "    # handles both files\n",
    "    if pssm: path = \"../data/angles/input_pssm.txt\"\n",
    "    # Opn file and read text\n",
    "    with open(path, \"r\") as f:\n",
    "        lines = f.read().split('\\n')\n",
    "    # Extract numeric data from text\n",
    "    pre_ins = []\n",
    "    for i,line in enumerate(lines):\n",
    "        # Read each protein separately\n",
    "        if line == \"NEW\":\n",
    "            prot = []\n",
    "            raw = lines[i+1:i+(17*2+1)]\n",
    "            # Read each line as a vector + ensemble one-hot vectors as a matrix\n",
    "            for r in raw:\n",
    "                prot.append(np.array([float(x) for x in r.split(\" \") if x != \"\"]))\n",
    "            # Add prot to dataset\n",
    "            pre_ins.append(np.array(prot))  \n",
    "    \n",
    "    return np.array(pre_ins)"
   ]
  },
  {
   "cell_type": "code",
   "execution_count": 6,
   "metadata": {},
   "outputs": [
    {
     "name": "stdout",
     "output_type": "stream",
     "text": [
      "(43001, 34, 21) (43001, 34, 21)\n"
     ]
    },
    {
     "data": {
      "text/plain": [
       "(43001, 34, 41)"
      ]
     },
     "execution_count": 6,
     "metadata": {},
     "output_type": "execute_result"
    }
   ],
   "source": [
    "# Get inputs data\n",
    "aas = get_ins()\n",
    "pssms = get_ins(pssm=True)\n",
    "# Check that shapes match\n",
    "print(aas.shape, pssms.shape)\n",
    "# Concatenate input features\n",
    "inputs = np.concatenate((aas, pssms[:, :, :20]), axis=2)\n",
    "inputs.shape"
   ]
  },
  {
   "cell_type": "code",
   "execution_count": 7,
   "metadata": {},
   "outputs": [
    {
     "data": {
      "image/png": "[encoded data removed]",
      "text/plain": [
       "<Figure size 432x288 with 1 Axes>"
      ]
     },
     "metadata": {
      "needs_background": "light"
     },
     "output_type": "display_data"
    }
   ],
   "source": [
    "# Plot some angle sto make sure they follow a Ramachandran plot distribution\n",
    "plt.scatter(outputs[:1000,0], outputs[:1000,1], marker=\".\")\n",
    "plt.xlim(-np.pi, np.pi)\n",
    "plt.ylim(-np.pi, np.pi)\n",
    "plt.show()"
   ]
  },
  {
   "cell_type": "code",
   "execution_count": 8,
   "metadata": {},
   "outputs": [
    {
     "data": {
      "text/plain": [
       "\" WE DON'T PREPROCESS INPUTS SINCE THEY'RE IN 0-1 RANGE\""
      ]
     },
     "execution_count": 8,
     "metadata": {},
     "output_type": "execute_result"
    }
   ],
   "source": [
    "\"\"\" WE DON'T PREPROCESS INPUTS SINCE THEY'RE IN 0-1 RANGE\"\"\"\n",
    "# Preprocess outputs (mean/std)\n",
    "# mean = np.mean(inputs,axis=(0,1,2))\n",
    "# std = np.std(inputs,axis=(0,1,2))\n",
    "# pre_inputs = (inputs-mean)/(std+1e-7)\n",
    "\n",
    "# print(\"Mean: \", mean)\n",
    "# print(\"Std: \", std)"
   ]
  },
  {
   "cell_type": "markdown",
   "metadata": {},
   "source": [
    "## Loading the model"
   ]
  },
  {
   "cell_type": "code",
   "execution_count": 9,
   "metadata": {},
   "outputs": [],
   "source": [
    "# Using AMSGrad optimizer for speed \n",
    "kernel_size, filters = 3, 16\n",
    "adam = keras.optimizers.Adam(amsgrad=True)"
   ]
  },
  {
   "cell_type": "code",
   "execution_count": 31,
   "metadata": {},
   "outputs": [
    {
     "name": "stdout",
     "output_type": "stream",
     "text": [
      "__________________________________________________________________________________________________\n",
      "Layer (type)                    Output Shape         Param #     Connected to                     \n",
      "==================================================================================================\n",
      "input_3 (InputLayer)            (None, 34, 41)       0                                            \n",
      "__________________________________________________________________________________________________\n",
      "conv1d_45 (Conv1D)              (None, 34, 16)       1984        input_3[0][0]                    \n",
      "__________________________________________________________________________________________________\n",
      "batch_normalization_39 (BatchNo (None, 34, 16)       64          conv1d_45[0][0]                  \n",
      "__________________________________________________________________________________________________\n",
      "activation_39 (Activation)      (None, 34, 16)       0           batch_normalization_39[0][0]     \n",
      "__________________________________________________________________________________________________\n",
      "conv1d_46 (Conv1D)              (None, 34, 16)       272         activation_39[0][0]              \n",
      "__________________________________________________________________________________________________\n",
      "conv1d_47 (Conv1D)              (None, 34, 16)       784         conv1d_46[0][0]                  \n",
      "__________________________________________________________________________________________________\n",
      "batch_normalization_40 (BatchNo (None, 34, 16)       64          conv1d_47[0][0]                  \n",
      "__________________________________________________________________________________________________\n",
      "activation_40 (Activation)      (None, 34, 16)       0           batch_normalization_40[0][0]     \n",
      "__________________________________________________________________________________________________\n",
      "conv1d_48 (Conv1D)              (None, 34, 64)       1088        activation_40[0][0]              \n",
      "__________________________________________________________________________________________________\n",
      "batch_normalization_41 (BatchNo (None, 34, 64)       256         conv1d_48[0][0]                  \n",
      "__________________________________________________________________________________________________\n",
      "conv1d_49 (Conv1D)              (None, 34, 64)       1088        activation_39[0][0]              \n",
      "__________________________________________________________________________________________________\n",
      "activation_41 (Activation)      (None, 34, 64)       0           batch_normalization_41[0][0]     \n",
      "__________________________________________________________________________________________________\n",
      "add_13 (Add)                    (None, 34, 64)       0           conv1d_49[0][0]                  \n",
      "                                                                 activation_41[0][0]              \n",
      "__________________________________________________________________________________________________\n",
      "conv1d_50 (Conv1D)              (None, 34, 16)       1040        add_13[0][0]                     \n",
      "__________________________________________________________________________________________________\n",
      "batch_normalization_42 (BatchNo (None, 34, 16)       64          conv1d_50[0][0]                  \n",
      "__________________________________________________________________________________________________\n",
      "activation_42 (Activation)      (None, 34, 16)       0           batch_normalization_42[0][0]     \n",
      "__________________________________________________________________________________________________\n",
      "conv1d_51 (Conv1D)              (None, 34, 16)       784         activation_42[0][0]              \n",
      "__________________________________________________________________________________________________\n",
      "batch_normalization_43 (BatchNo (None, 34, 16)       64          conv1d_51[0][0]                  \n",
      "__________________________________________________________________________________________________\n",
      "activation_43 (Activation)      (None, 34, 16)       0           batch_normalization_43[0][0]     \n",
      "__________________________________________________________________________________________________\n",
      "conv1d_52 (Conv1D)              (None, 34, 64)       1088        activation_43[0][0]              \n",
      "__________________________________________________________________________________________________\n",
      "batch_normalization_44 (BatchNo (None, 34, 64)       256         conv1d_52[0][0]                  \n",
      "__________________________________________________________________________________________________\n",
      "activation_44 (Activation)      (None, 34, 64)       0           batch_normalization_44[0][0]     \n",
      "__________________________________________________________________________________________________\n",
      "add_14 (Add)                    (None, 34, 64)       0           add_13[0][0]                     \n",
      "                                                                 activation_44[0][0]              \n",
      "__________________________________________________________________________________________________\n",
      "conv1d_53 (Conv1D)              (None, 17, 64)       4160        add_14[0][0]                     \n",
      "__________________________________________________________________________________________________\n",
      "batch_normalization_45 (BatchNo (None, 17, 64)       256         conv1d_53[0][0]                  \n",
      "__________________________________________________________________________________________________\n",
      "activation_45 (Activation)      (None, 17, 64)       0           batch_normalization_45[0][0]     \n",
      "__________________________________________________________________________________________________\n",
      "conv1d_54 (Conv1D)              (None, 17, 64)       12352       activation_45[0][0]              \n",
      "__________________________________________________________________________________________________\n",
      "batch_normalization_46 (BatchNo (None, 17, 64)       256         conv1d_54[0][0]                  \n",
      "__________________________________________________________________________________________________\n",
      "activation_46 (Activation)      (None, 17, 64)       0           batch_normalization_46[0][0]     \n",
      "__________________________________________________________________________________________________\n",
      "conv1d_55 (Conv1D)              (None, 17, 128)      8320        activation_46[0][0]              \n",
      "__________________________________________________________________________________________________\n",
      "batch_normalization_47 (BatchNo (None, 17, 128)      512         conv1d_55[0][0]                  \n",
      "__________________________________________________________________________________________________\n",
      "conv1d_56 (Conv1D)              (None, 17, 128)      8320        add_14[0][0]                     \n",
      "__________________________________________________________________________________________________\n",
      "activation_47 (Activation)      (None, 17, 128)      0           batch_normalization_47[0][0]     \n",
      "__________________________________________________________________________________________________\n",
      "add_15 (Add)                    (None, 17, 128)      0           conv1d_56[0][0]                  \n",
      "                                                                 activation_47[0][0]              \n",
      "__________________________________________________________________________________________________\n",
      "conv1d_57 (Conv1D)              (None, 17, 64)       8256        add_15[0][0]                     \n",
      "__________________________________________________________________________________________________\n",
      "batch_normalization_48 (BatchNo (None, 17, 64)       256         conv1d_57[0][0]                  \n",
      "__________________________________________________________________________________________________\n",
      "activation_48 (Activation)      (None, 17, 64)       0           batch_normalization_48[0][0]     \n",
      "__________________________________________________________________________________________________\n",
      "conv1d_58 (Conv1D)              (None, 17, 64)       12352       activation_48[0][0]              \n",
      "__________________________________________________________________________________________________\n",
      "batch_normalization_49 (BatchNo (None, 17, 64)       256         conv1d_58[0][0]                  \n",
      "__________________________________________________________________________________________________\n",
      "activation_49 (Activation)      (None, 17, 64)       0           batch_normalization_49[0][0]     \n",
      "__________________________________________________________________________________________________\n",
      "conv1d_59 (Conv1D)              (None, 17, 128)      8320        activation_49[0][0]              \n",
      "__________________________________________________________________________________________________\n",
      "batch_normalization_50 (BatchNo (None, 17, 128)      512         conv1d_59[0][0]                  \n",
      "__________________________________________________________________________________________________\n",
      "activation_50 (Activation)      (None, 17, 128)      0           batch_normalization_50[0][0]     \n",
      "__________________________________________________________________________________________________\n",
      "add_16 (Add)                    (None, 17, 128)      0           add_15[0][0]                     \n",
      "                                                                 activation_50[0][0]              \n",
      "__________________________________________________________________________________________________\n",
      "conv1d_60 (Conv1D)              (None, 9, 128)       16512       add_16[0][0]                     \n",
      "__________________________________________________________________________________________________\n",
      "batch_normalization_51 (BatchNo (None, 9, 128)       512         conv1d_60[0][0]                  \n",
      "__________________________________________________________________________________________________\n",
      "activation_51 (Activation)      (None, 9, 128)       0           batch_normalization_51[0][0]     \n",
      "__________________________________________________________________________________________________\n",
      "conv1d_61 (Conv1D)              (None, 9, 128)       49280       activation_51[0][0]              \n",
      "__________________________________________________________________________________________________\n",
      "batch_normalization_52 (BatchNo (None, 9, 128)       512         conv1d_61[0][0]                  \n",
      "__________________________________________________________________________________________________\n",
      "activation_52 (Activation)      (None, 9, 128)       0           batch_normalization_52[0][0]     \n",
      "__________________________________________________________________________________________________\n",
      "conv1d_62 (Conv1D)              (None, 9, 256)       33024       activation_52[0][0]              \n",
      "__________________________________________________________________________________________________\n",
      "batch_normalization_53 (BatchNo (None, 9, 256)       1024        conv1d_62[0][0]                  \n",
      "__________________________________________________________________________________________________\n",
      "conv1d_63 (Conv1D)              (None, 9, 256)       33024       add_16[0][0]                     \n",
      "__________________________________________________________________________________________________\n",
      "activation_53 (Activation)      (None, 9, 256)       0           batch_normalization_53[0][0]     \n",
      "__________________________________________________________________________________________________\n",
      "add_17 (Add)                    (None, 9, 256)       0           conv1d_63[0][0]                  \n",
      "                                                                 activation_53[0][0]              \n",
      "__________________________________________________________________________________________________\n",
      "conv1d_64 (Conv1D)              (None, 9, 128)       32896       add_17[0][0]                     \n",
      "__________________________________________________________________________________________________\n",
      "batch_normalization_54 (BatchNo (None, 9, 128)       512         conv1d_64[0][0]                  \n",
      "__________________________________________________________________________________________________\n",
      "activation_54 (Activation)      (None, 9, 128)       0           batch_normalization_54[0][0]     \n",
      "__________________________________________________________________________________________________\n",
      "conv1d_65 (Conv1D)              (None, 9, 128)       49280       activation_54[0][0]              \n",
      "__________________________________________________________________________________________________\n",
      "batch_normalization_55 (BatchNo (None, 9, 128)       512         conv1d_65[0][0]                  \n",
      "__________________________________________________________________________________________________\n",
      "activation_55 (Activation)      (None, 9, 128)       0           batch_normalization_55[0][0]     \n",
      "__________________________________________________________________________________________________\n",
      "conv1d_66 (Conv1D)              (None, 9, 256)       33024       activation_55[0][0]              \n",
      "__________________________________________________________________________________________________\n",
      "batch_normalization_56 (BatchNo (None, 9, 256)       1024        conv1d_66[0][0]                  \n",
      "__________________________________________________________________________________________________\n",
      "activation_56 (Activation)      (None, 9, 256)       0           batch_normalization_56[0][0]     \n",
      "__________________________________________________________________________________________________\n",
      "add_18 (Add)                    (None, 9, 256)       0           add_17[0][0]                     \n",
      "                                                                 activation_56[0][0]              \n",
      "__________________________________________________________________________________________________\n",
      "batch_normalization_57 (BatchNo (None, 9, 256)       1024        add_18[0][0]                     \n",
      "__________________________________________________________________________________________________\n",
      "activation_57 (Activation)      (None, 9, 256)       0           batch_normalization_57[0][0]     \n",
      "__________________________________________________________________________________________________\n",
      "average_pooling1d_3 (AveragePoo (None, 3, 256)       0           activation_57[0][0]              \n",
      "__________________________________________________________________________________________________\n",
      "flatten_3 (Flatten)             (None, 768)          0           average_pooling1d_3[0][0]        \n",
      "__________________________________________________________________________________________________\n",
      "dense_3 (Dense)                 (None, 4)            3076        flatten_3[0][0]                  \n",
      "==================================================================================================\n",
      "Total params: 328,260\n",
      "Trainable params: 324,292\n",
      "Non-trainable params: 3,968\n",
      "__________________________________________________________________________________________________\n"
     ]
    }
   ],
   "source": [
    "# Using AMSGrad optimizer for speed \n",
    "kernel_size, filters = 3, 16\n",
    "adam = keras.optimizers.Adam(amsgrad=True)\n",
    "# Create model\n",
    "model = resnet_v2(input_shape=(17*2,41), depth=20, num_classes=4, conv_first=False)\n",
    "model.compile(optimizer=adam, loss=custom_mse_mae,\n",
    "              metrics=[\"mean_absolute_error\", \"mean_squared_error\"])\n",
    "model.summary()"
   ]
  },
  {
   "cell_type": "markdown",
   "metadata": {},
   "source": [
    "### Model training"
   ]
  },
  {
   "cell_type": "code",
   "execution_count": 27,
   "metadata": {},
   "outputs": [],
   "source": [
    "# Separate data between training and testing\n",
    "split = 38700\n",
    "x_train, x_test = inputs[:split], inputs[split:]\n",
    "y_train, y_test = out[:split], out[split:]"
   ]
  },
  {
   "cell_type": "code",
   "execution_count": 32,
   "metadata": {},
   "outputs": [
    {
     "name": "stdout",
     "output_type": "stream",
     "text": [
      "Train on 38700 samples, validate on 4301 samples\n",
      "Epoch 1/1\n",
      "38700/38700 [==============================] - 75s 2ms/step - loss: 1.1723 - mean_absolute_error: 0.4632 - mean_squared_error: 0.3571 - val_loss: 1.0576 - val_mean_absolute_error: 0.4492 - val_mean_squared_error: 0.3446\n"
     ]
    }
   ],
   "source": [
    "# Resnet (pre-act structure) with 34*41 columns as inputs - leaving a subset for validation\n",
    "his = model.fit(x_train, y_train, epochs=1, batch_size=16, verbose=1, shuffle=True,\n",
    "                validation_data=(x_test, y_test))"
   ]
  },
  {
   "cell_type": "markdown",
   "metadata": {},
   "source": [
    "### Making predictions"
   ]
  },
  {
   "cell_type": "code",
   "execution_count": 33,
   "metadata": {},
   "outputs": [],
   "source": [
    "preds = model.predict(x_test)"
   ]
  },
  {
   "cell_type": "code",
   "execution_count": 34,
   "metadata": {},
   "outputs": [
    {
     "name": "stdout",
     "output_type": "stream",
     "text": [
      "(4301, 2)\n"
     ]
    }
   ],
   "source": [
    "# Get angle values from sin and cos\n",
    "refactor = []\n",
    "for pred in preds:\n",
    "    angles = []\n",
    "    phi_sin, phi_cos, psi_sin, psi_cos = pred[0], pred[1], pred[2], pred[3]\n",
    "    # PHI - First and fourth quadrant\n",
    "    if (phi_sin>=0 and phi_cos>=0) or (phi_cos>=0 and phi_sin<=0):\n",
    "        angles.append(np.arctan(phi_sin/phi_cos))\n",
    "    # 2nd and 3rd quadrant\n",
    "    else:\n",
    "        angles.append(np.pi + np.arctan(phi_sin/phi_cos))\n",
    "        \n",
    "    # PSI - First and fourth quadrant\n",
    "    if (psi_sin>=0 and psi_cos>=0) or (psi_cos>=0 and psi_sin<=0):\n",
    "        angles.append(np.arctan(psi_sin/psi_cos))\n",
    "    # 2nd and 3rd quadrant\n",
    "    else:\n",
    "        angles.append(np.pi + np.arctan(psi_sin/psi_cos))\n",
    "    \n",
    "    refactor.append(angles)\n",
    "    \n",
    "refactor = np.array(refactor)\n",
    "print(refactor.shape)"
   ]
  },
  {
   "cell_type": "code",
   "execution_count": 35,
   "metadata": {
    "scrolled": true
   },
   "outputs": [
    {
     "name": "stdout",
     "output_type": "stream",
     "text": [
      "PREDS:  [[-0.8310505   0.05546536  0.31986538 -0.03801781]\n",
      " [-0.7748565   0.17809193  0.09520975  0.21149366]\n",
      " [-0.5788943   0.04804507  0.16441247  0.10086364]\n",
      " [-0.82730377  0.0455861   0.39785627 -0.03664194]\n",
      " [-0.8163509  -0.14160393  0.4077245  -0.27907634]\n",
      " [-0.8634385  -0.01324537  0.35998598 -0.1951074 ]\n",
      " [-0.7352331   0.02070605  0.17006424  0.07503632]\n",
      " [-0.8380818   0.05122772  0.16865833 -0.07954071]\n",
      " [-0.8685609  -0.2278057   0.5191376  -0.3415556 ]\n",
      " [-0.91557187  0.03355179  0.50421697 -0.28949073]]\n",
      "OUT:  [[-0.89435741  0.44735313 -0.57443578  0.81854966]\n",
      " [-0.87376279  0.48635232 -0.622015    0.78300533]\n",
      " [-0.90627582  0.42268681 -0.77934285  0.62659774]\n",
      " [-0.95801371  0.2867224  -0.72077014  0.69317415]\n",
      " [-0.93497954  0.35470165 -0.43613418  0.89988165]\n",
      " [-0.960727    0.27749528 -0.2523779   0.96762875]\n",
      " [-0.96919641 -0.24628908  0.87398424 -0.48595426]\n",
      " [-0.99699843 -0.07742175 -0.48280369  0.87572861]\n",
      " [-0.85155377 -0.52426727  0.08061925  0.99674497]\n",
      " [-0.77707837 -0.62940385  0.4775152  -0.87862349]]\n",
      "----------------------------------------\n",
      "REFACTOR:  [[-1.45362675  1.13939488]\n",
      " [ 4.71193364  1.58696571]\n",
      " [-1.49443865  0.52267843]\n",
      " [ 4.52565161  2.10502961]\n",
      " [-1.24585426 -0.03532891]\n",
      " [-1.34908628  0.56908983]\n",
      " [-1.26641953  0.76133728]\n",
      " [-1.34252048  0.82963091]\n",
      " [-1.44149709  0.3834306 ]\n",
      " [-1.30282557  0.03709243]]\n",
      "OUTPUTS:  [[-1.2444379  -0.58042577]\n",
      " [-1.25021751 -0.66390819]\n",
      " [-1.05070228 -0.92893957]\n",
      " [-0.96688468 -0.78487058]\n",
      " [-1.08941559 -0.65024093]\n",
      " [-1.13797692 -0.7300337 ]\n",
      " [-1.09336306 -0.79161228]\n",
      " [-1.04327142 -0.66111024]\n",
      " [-1.10802421 -0.74689457]\n",
      " [-1.05710466 -0.76358765]]\n"
     ]
    }
   ],
   "source": [
    "# Experimental debugging prints to validate the predictions\n",
    "print(\"PREDS: \", preds[40:50])\n",
    "print(\"OUT: \", out[40:50])\n",
    "print(\"----------------------------------------\")\n",
    "print(\"REFACTOR: \", refactor[:10])\n",
    "print(\"OUTPUTS: \", outputs[:10])"
   ]
  },
  {
   "cell_type": "code",
   "execution_count": 36,
   "metadata": {},
   "outputs": [],
   "source": [
    "# Set angle range in (-pi, pi)\n",
    "refactor[refactor>np.pi] = np.pi\n",
    "refactor[refactor<-np.pi] = -np.pi"
   ]
  },
  {
   "cell_type": "code",
   "execution_count": 37,
   "metadata": {},
   "outputs": [
    {
     "data": {
      "image/png": "[encoded data removed]",
      "text/plain": [
       "<Figure size 432x288 with 1 Axes>"
      ]
     },
     "metadata": {
      "needs_background": "light"
     },
     "output_type": "display_data"
    }
   ],
   "source": [
    "plt.scatter(outputs[split:,0], outputs[split:,1], marker=\".\")\n",
    "plt.scatter(refactor[:,0], refactor[:,1], marker=\".\")\n",
    "plt.legend([\"Truth distribution\", \"Predictions distribution\"], loc=\"lower right\")\n",
    "plt.xlim(-np.pi, np.pi)\n",
    "plt.ylim(-np.pi, np.pi)\n",
    "plt.xlabel(\"Phi\")\n",
    "plt.ylabel(\"Psi\")\n",
    "plt.show()"
   ]
  },
  {
   "cell_type": "markdown",
   "metadata": {},
   "source": [
    "### Evaluate correlation between predictions and ground truth"
   ]
  },
  {
   "cell_type": "code",
   "execution_count": 38,
   "metadata": {},
   "outputs": [
    {
     "name": "stdout",
     "output_type": "stream",
     "text": [
      "Correlation coefficients - SOTA is Phi: 0.65 | Psi: 0.7\n",
      "Cos Phi:  0.25728663457818074\n",
      "Cos Psi:  0.2855359340162168\n"
     ]
    }
   ],
   "source": [
    "# Calculate Perason coefficient btwn cosines of both angles (true values and predicted ones)\n",
    "cos_phi = np.corrcoef(np.cos(refactor[:,0]), np.cos(outputs[split:,0]))\n",
    "cos_psi = np.corrcoef(np.cos(refactor[:,1]), np.cos(outputs[split:,1]))\n",
    "\n",
    "print(\"Correlation coefficients - SOTA is Phi: 0.65 | Psi: 0.7\")\n",
    "print(\"Cos Phi: \", cos_phi[0,1])\n",
    "print(\"Cos Psi: \", cos_psi[0,1])"
   ]
  },
  {
   "cell_type": "code",
   "execution_count": 30,
   "metadata": {},
   "outputs": [],
   "source": [
    "model.save(\"resnet_1d_angles.h5\")"
   ]
  },
  {
   "cell_type": "code",
   "execution_count": null,
   "metadata": {},
   "outputs": [],
   "source": [
    "# Done!"
   ]
  }
 ],
 "metadata": {
  "kernelspec": {
   "display_name": "Python 3",
   "language": "python",
   "name": "python3"
  }
 },
 "nbformat": 4,
 "nbformat_minor": 2
}
